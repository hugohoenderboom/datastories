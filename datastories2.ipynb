{
 "cells": [
  {
   "cell_type": "markdown",
   "metadata": {},
   "source": [
    "### LETS FUCKING GOOOOOOO###"
   ]
  },
  {
   "cell_type": "code",
   "execution_count": 3,
   "metadata": {},
   "outputs": [],
   "source": [
    "import plotly.graph_objs as go\n",
    "import pandas as pd"
   ]
  },
  {
   "cell_type": "code",
   "execution_count": 4,
   "metadata": {},
   "outputs": [
    {
     "data": {
      "text/html": [
       "<div>\n",
       "<style scoped>\n",
       "    .dataframe tbody tr th:only-of-type {\n",
       "        vertical-align: middle;\n",
       "    }\n",
       "\n",
       "    .dataframe tbody tr th {\n",
       "        vertical-align: top;\n",
       "    }\n",
       "\n",
       "    .dataframe thead th {\n",
       "        text-align: right;\n",
       "    }\n",
       "</style>\n",
       "<table border=\"1\" class=\"dataframe\">\n",
       "  <thead>\n",
       "    <tr style=\"text-align: right;\">\n",
       "      <th></th>\n",
       "      <th>country</th>\n",
       "      <th>ISO alpha-3 code</th>\n",
       "      <th>UN_region</th>\n",
       "      <th>UN_subregion</th>\n",
       "      <th>year</th>\n",
       "      <th>record</th>\n",
       "      <th>crop_land</th>\n",
       "      <th>grazing_land</th>\n",
       "      <th>forest_land</th>\n",
       "      <th>fishing_ground</th>\n",
       "      <th>built_up_land</th>\n",
       "      <th>carbon</th>\n",
       "      <th>total</th>\n",
       "      <th>Percapita GDP (2010 USD)</th>\n",
       "      <th>population</th>\n",
       "    </tr>\n",
       "  </thead>\n",
       "  <tbody>\n",
       "    <tr>\n",
       "      <td>0</td>\n",
       "      <td>Armenia</td>\n",
       "      <td>ARM</td>\n",
       "      <td>Asia</td>\n",
       "      <td>Western Asia</td>\n",
       "      <td>1992</td>\n",
       "      <td>BiocapPerCap</td>\n",
       "      <td>1.611286e-01</td>\n",
       "      <td>0.135023</td>\n",
       "      <td>0.083836</td>\n",
       "      <td>0.013718</td>\n",
       "      <td>0.033669</td>\n",
       "      <td>0.000000e+00</td>\n",
       "      <td>4.273741e-01</td>\n",
       "      <td>949.033</td>\n",
       "      <td>3449000</td>\n",
       "    </tr>\n",
       "    <tr>\n",
       "      <td>1</td>\n",
       "      <td>Armenia</td>\n",
       "      <td>ARM</td>\n",
       "      <td>Asia</td>\n",
       "      <td>Western Asia</td>\n",
       "      <td>1992</td>\n",
       "      <td>BiocapTotGHA</td>\n",
       "      <td>5.558130e+05</td>\n",
       "      <td>465763.337400</td>\n",
       "      <td>289190.662300</td>\n",
       "      <td>47320.224590</td>\n",
       "      <td>116139.598200</td>\n",
       "      <td>0.000000e+00</td>\n",
       "      <td>1.474227e+06</td>\n",
       "      <td>949.033</td>\n",
       "      <td>3449000</td>\n",
       "    </tr>\n",
       "    <tr>\n",
       "      <td>2</td>\n",
       "      <td>Armenia</td>\n",
       "      <td>ARM</td>\n",
       "      <td>Asia</td>\n",
       "      <td>Western Asia</td>\n",
       "      <td>1992</td>\n",
       "      <td>EFConsPerCap</td>\n",
       "      <td>3.909225e-01</td>\n",
       "      <td>0.189137</td>\n",
       "      <td>0.000001</td>\n",
       "      <td>0.004138</td>\n",
       "      <td>0.033669</td>\n",
       "      <td>1.112225e+00</td>\n",
       "      <td>1.730092e+00</td>\n",
       "      <td>949.033</td>\n",
       "      <td>3449000</td>\n",
       "    </tr>\n",
       "    <tr>\n",
       "      <td>3</td>\n",
       "      <td>Armenia</td>\n",
       "      <td>ARM</td>\n",
       "      <td>Asia</td>\n",
       "      <td>Western Asia</td>\n",
       "      <td>1992</td>\n",
       "      <td>EFConsTotGHA</td>\n",
       "      <td>1.348487e+06</td>\n",
       "      <td>652429.066600</td>\n",
       "      <td>4.327841</td>\n",
       "      <td>14272.803690</td>\n",
       "      <td>116139.598200</td>\n",
       "      <td>3.836620e+06</td>\n",
       "      <td>5.967954e+06</td>\n",
       "      <td>949.033</td>\n",
       "      <td>3449000</td>\n",
       "    </tr>\n",
       "    <tr>\n",
       "      <td>4</td>\n",
       "      <td>Armenia</td>\n",
       "      <td>ARM</td>\n",
       "      <td>Asia</td>\n",
       "      <td>Western Asia</td>\n",
       "      <td>1992</td>\n",
       "      <td>EFExportsPerCap</td>\n",
       "      <td>1.124910e-03</td>\n",
       "      <td>0.002283</td>\n",
       "      <td>0.000000</td>\n",
       "      <td>0.000438</td>\n",
       "      <td>0.000000</td>\n",
       "      <td>4.819043e-02</td>\n",
       "      <td>5.203676e-02</td>\n",
       "      <td>949.033</td>\n",
       "      <td>3449000</td>\n",
       "    </tr>\n",
       "    <tr>\n",
       "      <td>...</td>\n",
       "      <td>...</td>\n",
       "      <td>...</td>\n",
       "      <td>...</td>\n",
       "      <td>...</td>\n",
       "      <td>...</td>\n",
       "      <td>...</td>\n",
       "      <td>...</td>\n",
       "      <td>...</td>\n",
       "      <td>...</td>\n",
       "      <td>...</td>\n",
       "      <td>...</td>\n",
       "      <td>...</td>\n",
       "      <td>...</td>\n",
       "      <td>...</td>\n",
       "      <td>...</td>\n",
       "    </tr>\n",
       "    <tr>\n",
       "      <td>87015</td>\n",
       "      <td>Luxembourg</td>\n",
       "      <td>LUX</td>\n",
       "      <td>Europe</td>\n",
       "      <td>Western Europe</td>\n",
       "      <td>1999</td>\n",
       "      <td>EFExportsTotGHA</td>\n",
       "      <td>2.727690e+05</td>\n",
       "      <td>38693.594850</td>\n",
       "      <td>529781.310300</td>\n",
       "      <td>38598.597570</td>\n",
       "      <td>0.000000</td>\n",
       "      <td>4.697928e+06</td>\n",
       "      <td>5.577771e+06</td>\n",
       "      <td>87516.400</td>\n",
       "      <td>446000</td>\n",
       "    </tr>\n",
       "    <tr>\n",
       "      <td>87016</td>\n",
       "      <td>Luxembourg</td>\n",
       "      <td>LUX</td>\n",
       "      <td>Europe</td>\n",
       "      <td>Western Europe</td>\n",
       "      <td>1999</td>\n",
       "      <td>EFImportsPerCap</td>\n",
       "      <td>9.640340e-01</td>\n",
       "      <td>0.513370</td>\n",
       "      <td>2.175907</td>\n",
       "      <td>0.182401</td>\n",
       "      <td>0.000000</td>\n",
       "      <td>1.672241e+01</td>\n",
       "      <td>2.055812e+01</td>\n",
       "      <td>87516.400</td>\n",
       "      <td>446000</td>\n",
       "    </tr>\n",
       "    <tr>\n",
       "      <td>87017</td>\n",
       "      <td>Luxembourg</td>\n",
       "      <td>LUX</td>\n",
       "      <td>Europe</td>\n",
       "      <td>Western Europe</td>\n",
       "      <td>1999</td>\n",
       "      <td>EFImportsTotGHA</td>\n",
       "      <td>4.299939e+05</td>\n",
       "      <td>228981.371100</td>\n",
       "      <td>970532.711500</td>\n",
       "      <td>81357.251260</td>\n",
       "      <td>0.000000</td>\n",
       "      <td>7.458795e+06</td>\n",
       "      <td>9.169660e+06</td>\n",
       "      <td>87516.400</td>\n",
       "      <td>446000</td>\n",
       "    </tr>\n",
       "    <tr>\n",
       "      <td>87018</td>\n",
       "      <td>Luxembourg</td>\n",
       "      <td>LUX</td>\n",
       "      <td>Europe</td>\n",
       "      <td>Western Europe</td>\n",
       "      <td>1999</td>\n",
       "      <td>EFProdPerCap</td>\n",
       "      <td>4.959092e-01</td>\n",
       "      <td>0.093481</td>\n",
       "      <td>0.448416</td>\n",
       "      <td>0.000000</td>\n",
       "      <td>0.115181</td>\n",
       "      <td>6.242095e+00</td>\n",
       "      <td>7.395082e+00</td>\n",
       "      <td>87516.400</td>\n",
       "      <td>446000</td>\n",
       "    </tr>\n",
       "    <tr>\n",
       "      <td>87019</td>\n",
       "      <td>Luxembourg</td>\n",
       "      <td>LUX</td>\n",
       "      <td>Europe</td>\n",
       "      <td>Western Europe</td>\n",
       "      <td>1999</td>\n",
       "      <td>EFProdTotGHA</td>\n",
       "      <td>2.211934e+05</td>\n",
       "      <td>41695.921850</td>\n",
       "      <td>200009.644900</td>\n",
       "      <td>0.000000</td>\n",
       "      <td>51374.788640</td>\n",
       "      <td>2.784199e+06</td>\n",
       "      <td>3.298473e+06</td>\n",
       "      <td>87516.400</td>\n",
       "      <td>446000</td>\n",
       "    </tr>\n",
       "  </tbody>\n",
       "</table>\n",
       "<p>87020 rows × 15 columns</p>\n",
       "</div>"
      ],
      "text/plain": [
       "          country ISO alpha-3 code UN_region    UN_subregion  year  \\\n",
       "0         Armenia              ARM      Asia    Western Asia  1992   \n",
       "1         Armenia              ARM      Asia    Western Asia  1992   \n",
       "2         Armenia              ARM      Asia    Western Asia  1992   \n",
       "3         Armenia              ARM      Asia    Western Asia  1992   \n",
       "4         Armenia              ARM      Asia    Western Asia  1992   \n",
       "...           ...              ...       ...             ...   ...   \n",
       "87015  Luxembourg              LUX    Europe  Western Europe  1999   \n",
       "87016  Luxembourg              LUX    Europe  Western Europe  1999   \n",
       "87017  Luxembourg              LUX    Europe  Western Europe  1999   \n",
       "87018  Luxembourg              LUX    Europe  Western Europe  1999   \n",
       "87019  Luxembourg              LUX    Europe  Western Europe  1999   \n",
       "\n",
       "                record     crop_land   grazing_land    forest_land  \\\n",
       "0         BiocapPerCap  1.611286e-01       0.135023       0.083836   \n",
       "1         BiocapTotGHA  5.558130e+05  465763.337400  289190.662300   \n",
       "2         EFConsPerCap  3.909225e-01       0.189137       0.000001   \n",
       "3         EFConsTotGHA  1.348487e+06  652429.066600       4.327841   \n",
       "4      EFExportsPerCap  1.124910e-03       0.002283       0.000000   \n",
       "...                ...           ...            ...            ...   \n",
       "87015  EFExportsTotGHA  2.727690e+05   38693.594850  529781.310300   \n",
       "87016  EFImportsPerCap  9.640340e-01       0.513370       2.175907   \n",
       "87017  EFImportsTotGHA  4.299939e+05  228981.371100  970532.711500   \n",
       "87018     EFProdPerCap  4.959092e-01       0.093481       0.448416   \n",
       "87019     EFProdTotGHA  2.211934e+05   41695.921850  200009.644900   \n",
       "\n",
       "       fishing_ground  built_up_land        carbon         total  \\\n",
       "0            0.013718       0.033669  0.000000e+00  4.273741e-01   \n",
       "1        47320.224590  116139.598200  0.000000e+00  1.474227e+06   \n",
       "2            0.004138       0.033669  1.112225e+00  1.730092e+00   \n",
       "3        14272.803690  116139.598200  3.836620e+06  5.967954e+06   \n",
       "4            0.000438       0.000000  4.819043e-02  5.203676e-02   \n",
       "...               ...            ...           ...           ...   \n",
       "87015    38598.597570       0.000000  4.697928e+06  5.577771e+06   \n",
       "87016        0.182401       0.000000  1.672241e+01  2.055812e+01   \n",
       "87017    81357.251260       0.000000  7.458795e+06  9.169660e+06   \n",
       "87018        0.000000       0.115181  6.242095e+00  7.395082e+00   \n",
       "87019        0.000000   51374.788640  2.784199e+06  3.298473e+06   \n",
       "\n",
       "       Percapita GDP (2010 USD)  population  \n",
       "0                       949.033     3449000  \n",
       "1                       949.033     3449000  \n",
       "2                       949.033     3449000  \n",
       "3                       949.033     3449000  \n",
       "4                       949.033     3449000  \n",
       "...                         ...         ...  \n",
       "87015                 87516.400      446000  \n",
       "87016                 87516.400      446000  \n",
       "87017                 87516.400      446000  \n",
       "87018                 87516.400      446000  \n",
       "87019                 87516.400      446000  \n",
       "\n",
       "[87020 rows x 15 columns]"
      ]
     },
     "metadata": {},
     "output_type": "display_data"
    }
   ],
   "source": [
    "df = pd.read_csv('NFA 2018.csv')\n",
    "display(df)"
   ]
  },
  {
   "cell_type": "code",
   "execution_count": 60,
   "metadata": {},
   "outputs": [
    {
     "data": {
      "text/html": [
       "<div>\n",
       "<style scoped>\n",
       "    .dataframe tbody tr th:only-of-type {\n",
       "        vertical-align: middle;\n",
       "    }\n",
       "\n",
       "    .dataframe tbody tr th {\n",
       "        vertical-align: top;\n",
       "    }\n",
       "\n",
       "    .dataframe thead th {\n",
       "        text-align: right;\n",
       "    }\n",
       "</style>\n",
       "<table border=\"1\" class=\"dataframe\">\n",
       "  <thead>\n",
       "    <tr style=\"text-align: right;\">\n",
       "      <th></th>\n",
       "      <th>country</th>\n",
       "      <th>ISO alpha-3 code</th>\n",
       "      <th>UN_region</th>\n",
       "      <th>UN_subregion</th>\n",
       "      <th>year</th>\n",
       "      <th>record</th>\n",
       "      <th>crop_land</th>\n",
       "      <th>grazing_land</th>\n",
       "      <th>forest_land</th>\n",
       "      <th>fishing_ground</th>\n",
       "      <th>built_up_land</th>\n",
       "      <th>carbon</th>\n",
       "      <th>total</th>\n",
       "      <th>Percapita GDP (2010 USD)</th>\n",
       "      <th>population</th>\n",
       "    </tr>\n",
       "  </thead>\n",
       "  <tbody>\n",
       "    <tr>\n",
       "      <td>1301</td>\n",
       "      <td>Albania</td>\n",
       "      <td>ALB</td>\n",
       "      <td>Europe</td>\n",
       "      <td>Southern Europe</td>\n",
       "      <td>2014</td>\n",
       "      <td>BiocapTotGHA</td>\n",
       "      <td>1.142740e+06</td>\n",
       "      <td>6.316040e+05</td>\n",
       "      <td>9.127432e+05</td>\n",
       "      <td>2.366176e+05</td>\n",
       "      <td>1.149292e+05</td>\n",
       "      <td>0.0</td>\n",
       "      <td>3.038634e+06</td>\n",
       "      <td>4413.56</td>\n",
       "      <td>2890000</td>\n",
       "    </tr>\n",
       "    <tr>\n",
       "      <td>4351</td>\n",
       "      <td>Austria</td>\n",
       "      <td>AUT</td>\n",
       "      <td>Europe</td>\n",
       "      <td>Western Europe</td>\n",
       "      <td>2014</td>\n",
       "      <td>BiocapTotGHA</td>\n",
       "      <td>5.930126e+06</td>\n",
       "      <td>1.271021e+06</td>\n",
       "      <td>1.715874e+07</td>\n",
       "      <td>2.634351e+04</td>\n",
       "      <td>1.287431e+06</td>\n",
       "      <td>0.0</td>\n",
       "      <td>2.567366e+07</td>\n",
       "      <td>47886.60</td>\n",
       "      <td>8517000</td>\n",
       "    </tr>\n",
       "    <tr>\n",
       "      <td>9771</td>\n",
       "      <td>Bulgaria</td>\n",
       "      <td>BGR</td>\n",
       "      <td>Europe</td>\n",
       "      <td>Eastern Europe</td>\n",
       "      <td>2014</td>\n",
       "      <td>BiocapTotGHA</td>\n",
       "      <td>1.278413e+07</td>\n",
       "      <td>4.809558e+05</td>\n",
       "      <td>8.731012e+06</td>\n",
       "      <td>8.730221e+05</td>\n",
       "      <td>1.155183e+06</td>\n",
       "      <td>0.0</td>\n",
       "      <td>2.402430e+07</td>\n",
       "      <td>7299.55</td>\n",
       "      <td>7201000</td>\n",
       "    </tr>\n",
       "    <tr>\n",
       "      <td>19661</td>\n",
       "      <td>Denmark</td>\n",
       "      <td>DNK</td>\n",
       "      <td>Europe</td>\n",
       "      <td>Northern Europe</td>\n",
       "      <td>2014</td>\n",
       "      <td>BiocapTotGHA</td>\n",
       "      <td>1.164137e+07</td>\n",
       "      <td>4.334798e+04</td>\n",
       "      <td>1.911868e+06</td>\n",
       "      <td>1.018418e+07</td>\n",
       "      <td>1.208866e+06</td>\n",
       "      <td>0.0</td>\n",
       "      <td>2.498962e+07</td>\n",
       "      <td>59437.90</td>\n",
       "      <td>5647000</td>\n",
       "    </tr>\n",
       "    <tr>\n",
       "      <td>20971</td>\n",
       "      <td>Belarus</td>\n",
       "      <td>BLR</td>\n",
       "      <td>Europe</td>\n",
       "      <td>Eastern Europe</td>\n",
       "      <td>2014</td>\n",
       "      <td>BiocapTotGHA</td>\n",
       "      <td>1.311255e+07</td>\n",
       "      <td>2.576886e+06</td>\n",
       "      <td>1.600318e+07</td>\n",
       "      <td>1.724474e+05</td>\n",
       "      <td>7.655820e+05</td>\n",
       "      <td>0.0</td>\n",
       "      <td>3.263065e+07</td>\n",
       "      <td>6664.10</td>\n",
       "      <td>9500000</td>\n",
       "    </tr>\n",
       "    <tr>\n",
       "      <td>23561</td>\n",
       "      <td>Estonia</td>\n",
       "      <td>EST</td>\n",
       "      <td>Europe</td>\n",
       "      <td>Northern Europe</td>\n",
       "      <td>2014</td>\n",
       "      <td>BiocapTotGHA</td>\n",
       "      <td>1.616084e+06</td>\n",
       "      <td>1.129212e+05</td>\n",
       "      <td>5.285583e+06</td>\n",
       "      <td>5.693952e+06</td>\n",
       "      <td>9.636372e+04</td>\n",
       "      <td>0.0</td>\n",
       "      <td>1.280490e+07</td>\n",
       "      <td>17453.40</td>\n",
       "      <td>1316000</td>\n",
       "    </tr>\n",
       "    <tr>\n",
       "      <td>24641</td>\n",
       "      <td>Finland</td>\n",
       "      <td>FIN</td>\n",
       "      <td>Europe</td>\n",
       "      <td>Northern Europe</td>\n",
       "      <td>2014</td>\n",
       "      <td>BiocapTotGHA</td>\n",
       "      <td>4.809285e+06</td>\n",
       "      <td>2.594300e+05</td>\n",
       "      <td>5.193430e+07</td>\n",
       "      <td>1.263859e+07</td>\n",
       "      <td>8.504326e+05</td>\n",
       "      <td>0.0</td>\n",
       "      <td>7.049204e+07</td>\n",
       "      <td>45239.40</td>\n",
       "      <td>5480000</td>\n",
       "    </tr>\n",
       "    <tr>\n",
       "      <td>25181</td>\n",
       "      <td>France</td>\n",
       "      <td>FRA</td>\n",
       "      <td>Europe</td>\n",
       "      <td>Western Europe</td>\n",
       "      <td>2014</td>\n",
       "      <td>BiocapTotGHA</td>\n",
       "      <td>8.546464e+07</td>\n",
       "      <td>1.021664e+07</td>\n",
       "      <td>6.144322e+07</td>\n",
       "      <td>7.221237e+06</td>\n",
       "      <td>1.053633e+07</td>\n",
       "      <td>0.0</td>\n",
       "      <td>1.748821e+08</td>\n",
       "      <td>41431.00</td>\n",
       "      <td>64159000</td>\n",
       "    </tr>\n",
       "    <tr>\n",
       "      <td>28161</td>\n",
       "      <td>Germany</td>\n",
       "      <td>DEU</td>\n",
       "      <td>Europe</td>\n",
       "      <td>Western Europe</td>\n",
       "      <td>2014</td>\n",
       "      <td>BiocapTotGHA</td>\n",
       "      <td>6.499185e+07</td>\n",
       "      <td>5.171644e+06</td>\n",
       "      <td>5.554234e+07</td>\n",
       "      <td>6.054673e+06</td>\n",
       "      <td>1.263740e+07</td>\n",
       "      <td>0.0</td>\n",
       "      <td>1.443979e+08</td>\n",
       "      <td>45022.60</td>\n",
       "      <td>80646000</td>\n",
       "    </tr>\n",
       "    <tr>\n",
       "      <td>28391</td>\n",
       "      <td>Bosnia and Herzegovina</td>\n",
       "      <td>BIH</td>\n",
       "      <td>Europe</td>\n",
       "      <td>Southern Europe</td>\n",
       "      <td>2014</td>\n",
       "      <td>BiocapTotGHA</td>\n",
       "      <td>1.064232e+06</td>\n",
       "      <td>7.206766e+05</td>\n",
       "      <td>4.303816e+06</td>\n",
       "      <td>1.191273e+04</td>\n",
       "      <td>5.486665e+04</td>\n",
       "      <td>0.0</td>\n",
       "      <td>6.155504e+06</td>\n",
       "      <td>4992.91</td>\n",
       "      <td>3818000</td>\n",
       "    </tr>\n",
       "    <tr>\n",
       "      <td>29481</td>\n",
       "      <td>Greece</td>\n",
       "      <td>GRC</td>\n",
       "      <td>Europe</td>\n",
       "      <td>Southern Europe</td>\n",
       "      <td>2014</td>\n",
       "      <td>BiocapTotGHA</td>\n",
       "      <td>1.095333e+07</td>\n",
       "      <td>1.585354e+06</td>\n",
       "      <td>2.551058e+06</td>\n",
       "      <td>1.927514e+06</td>\n",
       "      <td>6.277952e+05</td>\n",
       "      <td>0.0</td>\n",
       "      <td>1.764505e+07</td>\n",
       "      <td>22565.70</td>\n",
       "      <td>11001000</td>\n",
       "    </tr>\n",
       "    <tr>\n",
       "      <td>33431</td>\n",
       "      <td>Hungary</td>\n",
       "      <td>HUN</td>\n",
       "      <td>Europe</td>\n",
       "      <td>Eastern Europe</td>\n",
       "      <td>2014</td>\n",
       "      <td>BiocapTotGHA</td>\n",
       "      <td>1.725014e+07</td>\n",
       "      <td>5.864932e+05</td>\n",
       "      <td>6.868102e+06</td>\n",
       "      <td>4.720215e+04</td>\n",
       "      <td>1.778033e+06</td>\n",
       "      <td>0.0</td>\n",
       "      <td>2.652997e+07</td>\n",
       "      <td>14119.10</td>\n",
       "      <td>9890000</td>\n",
       "    </tr>\n",
       "    <tr>\n",
       "      <td>33661</td>\n",
       "      <td>Croatia</td>\n",
       "      <td>HRV</td>\n",
       "      <td>Europe</td>\n",
       "      <td>Southern Europe</td>\n",
       "      <td>2014</td>\n",
       "      <td>BiocapTotGHA</td>\n",
       "      <td>3.009136e+06</td>\n",
       "      <td>1.382937e+06</td>\n",
       "      <td>6.617934e+06</td>\n",
       "      <td>1.446035e+06</td>\n",
       "      <td>2.848186e+05</td>\n",
       "      <td>0.0</td>\n",
       "      <td>1.274086e+07</td>\n",
       "      <td>13517.80</td>\n",
       "      <td>4256000</td>\n",
       "    </tr>\n",
       "    <tr>\n",
       "      <td>36091</td>\n",
       "      <td>Ireland</td>\n",
       "      <td>IRL</td>\n",
       "      <td>Europe</td>\n",
       "      <td>Northern Europe</td>\n",
       "      <td>2014</td>\n",
       "      <td>BiocapTotGHA</td>\n",
       "      <td>2.920902e+06</td>\n",
       "      <td>3.483128e+06</td>\n",
       "      <td>2.318189e+06</td>\n",
       "      <td>6.899431e+06</td>\n",
       "      <td>4.732581e+05</td>\n",
       "      <td>0.0</td>\n",
       "      <td>1.609491e+07</td>\n",
       "      <td>54527.30</td>\n",
       "      <td>4675000</td>\n",
       "    </tr>\n",
       "    <tr>\n",
       "      <td>37171</td>\n",
       "      <td>Italy</td>\n",
       "      <td>ITA</td>\n",
       "      <td>Europe</td>\n",
       "      <td>Southern Europe</td>\n",
       "      <td>2014</td>\n",
       "      <td>BiocapTotGHA</td>\n",
       "      <td>2.666905e+07</td>\n",
       "      <td>2.507997e+06</td>\n",
       "      <td>2.022231e+07</td>\n",
       "      <td>3.720137e+06</td>\n",
       "      <td>2.932054e+06</td>\n",
       "      <td>0.0</td>\n",
       "      <td>5.605155e+07</td>\n",
       "      <td>33626.10</td>\n",
       "      <td>59821000</td>\n",
       "    </tr>\n",
       "    <tr>\n",
       "      <td>42341</td>\n",
       "      <td>Latvia</td>\n",
       "      <td>LVA</td>\n",
       "      <td>Europe</td>\n",
       "      <td>Northern Europe</td>\n",
       "      <td>2014</td>\n",
       "      <td>BiocapTotGHA</td>\n",
       "      <td>2.831256e+06</td>\n",
       "      <td>6.433903e+05</td>\n",
       "      <td>8.336512e+06</td>\n",
       "      <td>4.007723e+06</td>\n",
       "      <td>1.114406e+05</td>\n",
       "      <td>0.0</td>\n",
       "      <td>1.593032e+07</td>\n",
       "      <td>13786.40</td>\n",
       "      <td>1989000</td>\n",
       "    </tr>\n",
       "    <tr>\n",
       "      <td>45021</td>\n",
       "      <td>Lithuania</td>\n",
       "      <td>LTU</td>\n",
       "      <td>Europe</td>\n",
       "      <td>Northern Europe</td>\n",
       "      <td>2014</td>\n",
       "      <td>BiocapTotGHA</td>\n",
       "      <td>6.785981e+06</td>\n",
       "      <td>3.250743e+05</td>\n",
       "      <td>6.272012e+06</td>\n",
       "      <td>9.054460e+05</td>\n",
       "      <td>2.891728e+05</td>\n",
       "      <td>0.0</td>\n",
       "      <td>1.457769e+07</td>\n",
       "      <td>14932.60</td>\n",
       "      <td>2917000</td>\n",
       "    </tr>\n",
       "    <tr>\n",
       "      <td>47691</td>\n",
       "      <td>Malta</td>\n",
       "      <td>MLT</td>\n",
       "      <td>Europe</td>\n",
       "      <td>Southern Europe</td>\n",
       "      <td>2014</td>\n",
       "      <td>BiocapTotGHA</td>\n",
       "      <td>3.930799e+04</td>\n",
       "      <td>0.000000e+00</td>\n",
       "      <td>3.128528e+02</td>\n",
       "      <td>1.983530e+05</td>\n",
       "      <td>2.121933e+04</td>\n",
       "      <td>0.0</td>\n",
       "      <td>2.591932e+05</td>\n",
       "      <td>24080.20</td>\n",
       "      <td>418000</td>\n",
       "    </tr>\n",
       "    <tr>\n",
       "      <td>51911</td>\n",
       "      <td>Moldova</td>\n",
       "      <td>MDA</td>\n",
       "      <td>Europe</td>\n",
       "      <td>Eastern Europe</td>\n",
       "      <td>2014</td>\n",
       "      <td>BiocapTotGHA</td>\n",
       "      <td>3.869157e+06</td>\n",
       "      <td>2.458640e+05</td>\n",
       "      <td>3.492745e+05</td>\n",
       "      <td>3.603378e+04</td>\n",
       "      <td>2.240754e+05</td>\n",
       "      <td>0.0</td>\n",
       "      <td>4.724404e+06</td>\n",
       "      <td>1986.94</td>\n",
       "      <td>4072000</td>\n",
       "    </tr>\n",
       "    <tr>\n",
       "      <td>53531</td>\n",
       "      <td>Netherlands</td>\n",
       "      <td>NLD</td>\n",
       "      <td>Europe</td>\n",
       "      <td>Western Europe</td>\n",
       "      <td>2014</td>\n",
       "      <td>BiocapTotGHA</td>\n",
       "      <td>3.836819e+06</td>\n",
       "      <td>7.253454e+05</td>\n",
       "      <td>1.316090e+06</td>\n",
       "      <td>7.191421e+06</td>\n",
       "      <td>1.508056e+06</td>\n",
       "      <td>0.0</td>\n",
       "      <td>1.457773e+07</td>\n",
       "      <td>50497.20</td>\n",
       "      <td>16868000</td>\n",
       "    </tr>\n",
       "    <tr>\n",
       "      <td>53761</td>\n",
       "      <td>Macedonia TFYR</td>\n",
       "      <td>MKD</td>\n",
       "      <td>Europe</td>\n",
       "      <td>Southern Europe</td>\n",
       "      <td>2014</td>\n",
       "      <td>BiocapTotGHA</td>\n",
       "      <td>9.899660e+05</td>\n",
       "      <td>3.506688e+05</td>\n",
       "      <td>1.925065e+06</td>\n",
       "      <td>3.446953e+04</td>\n",
       "      <td>5.985162e+04</td>\n",
       "      <td>0.0</td>\n",
       "      <td>3.360021e+06</td>\n",
       "      <td>4920.22</td>\n",
       "      <td>2076000</td>\n",
       "    </tr>\n",
       "    <tr>\n",
       "      <td>56461</td>\n",
       "      <td>Norway</td>\n",
       "      <td>NOR</td>\n",
       "      <td>Europe</td>\n",
       "      <td>Northern Europe</td>\n",
       "      <td>2014</td>\n",
       "      <td>BiocapTotGHA</td>\n",
       "      <td>1.452656e+06</td>\n",
       "      <td>3.064569e+06</td>\n",
       "      <td>1.799338e+07</td>\n",
       "      <td>1.535985e+07</td>\n",
       "      <td>2.842342e+05</td>\n",
       "      <td>0.0</td>\n",
       "      <td>3.815468e+07</td>\n",
       "      <td>89275.00</td>\n",
       "      <td>5148000</td>\n",
       "    </tr>\n",
       "    <tr>\n",
       "      <td>57761</td>\n",
       "      <td>Czech Republic</td>\n",
       "      <td>CZE</td>\n",
       "      <td>Europe</td>\n",
       "      <td>Eastern Europe</td>\n",
       "      <td>2014</td>\n",
       "      <td>BiocapTotGHA</td>\n",
       "      <td>1.171455e+07</td>\n",
       "      <td>7.394368e+05</td>\n",
       "      <td>1.389408e+07</td>\n",
       "      <td>2.125438e+04</td>\n",
       "      <td>1.606858e+06</td>\n",
       "      <td>0.0</td>\n",
       "      <td>2.797618e+07</td>\n",
       "      <td>20343.70</td>\n",
       "      <td>10543000</td>\n",
       "    </tr>\n",
       "    <tr>\n",
       "      <td>60461</td>\n",
       "      <td>Poland</td>\n",
       "      <td>POL</td>\n",
       "      <td>Europe</td>\n",
       "      <td>Eastern Europe</td>\n",
       "      <td>2014</td>\n",
       "      <td>BiocapTotGHA</td>\n",
       "      <td>4.088799e+07</td>\n",
       "      <td>2.577007e+06</td>\n",
       "      <td>2.913528e+07</td>\n",
       "      <td>4.139773e+06</td>\n",
       "      <td>3.426010e+06</td>\n",
       "      <td>0.0</td>\n",
       "      <td>8.016606e+07</td>\n",
       "      <td>14088.70</td>\n",
       "      <td>38620000</td>\n",
       "    </tr>\n",
       "    <tr>\n",
       "      <td>61001</td>\n",
       "      <td>Portugal</td>\n",
       "      <td>PRT</td>\n",
       "      <td>Europe</td>\n",
       "      <td>Southern Europe</td>\n",
       "      <td>2014</td>\n",
       "      <td>BiocapTotGHA</td>\n",
       "      <td>2.624884e+06</td>\n",
       "      <td>6.649645e+05</td>\n",
       "      <td>8.896825e+06</td>\n",
       "      <td>7.728040e+05</td>\n",
       "      <td>2.545312e+05</td>\n",
       "      <td>0.0</td>\n",
       "      <td>1.321401e+07</td>\n",
       "      <td>21533.50</td>\n",
       "      <td>10402000</td>\n",
       "    </tr>\n",
       "    <tr>\n",
       "      <td>64201</td>\n",
       "      <td>Romania</td>\n",
       "      <td>ROU</td>\n",
       "      <td>Europe</td>\n",
       "      <td>Eastern Europe</td>\n",
       "      <td>2014</td>\n",
       "      <td>BiocapTotGHA</td>\n",
       "      <td>2.413677e+07</td>\n",
       "      <td>2.405766e+06</td>\n",
       "      <td>2.506300e+07</td>\n",
       "      <td>1.820096e+06</td>\n",
       "      <td>3.135332e+06</td>\n",
       "      <td>0.0</td>\n",
       "      <td>5.656096e+07</td>\n",
       "      <td>9158.52</td>\n",
       "      <td>19652000</td>\n",
       "    </tr>\n",
       "    <tr>\n",
       "      <td>64971</td>\n",
       "      <td>Russian Federation</td>\n",
       "      <td>RUS</td>\n",
       "      <td>Europe</td>\n",
       "      <td>Eastern Europe</td>\n",
       "      <td>2014</td>\n",
       "      <td>BiocapTotGHA</td>\n",
       "      <td>1.388779e+08</td>\n",
       "      <td>4.937793e+07</td>\n",
       "      <td>6.214395e+08</td>\n",
       "      <td>1.712961e+08</td>\n",
       "      <td>5.336687e+06</td>\n",
       "      <td>0.0</td>\n",
       "      <td>9.863281e+08</td>\n",
       "      <td>11493.70</td>\n",
       "      <td>143429000</td>\n",
       "    </tr>\n",
       "    <tr>\n",
       "      <td>67511</td>\n",
       "      <td>Slovenia</td>\n",
       "      <td>SVN</td>\n",
       "      <td>Europe</td>\n",
       "      <td>Southern Europe</td>\n",
       "      <td>2014</td>\n",
       "      <td>BiocapTotGHA</td>\n",
       "      <td>6.218116e+05</td>\n",
       "      <td>1.793888e+05</td>\n",
       "      <td>3.833924e+06</td>\n",
       "      <td>8.786835e+03</td>\n",
       "      <td>5.149029e+04</td>\n",
       "      <td>0.0</td>\n",
       "      <td>4.695401e+06</td>\n",
       "      <td>23224.40</td>\n",
       "      <td>2066000</td>\n",
       "    </tr>\n",
       "    <tr>\n",
       "      <td>67731</td>\n",
       "      <td>Slovakia</td>\n",
       "      <td>SVK</td>\n",
       "      <td>Europe</td>\n",
       "      <td>Eastern Europe</td>\n",
       "      <td>2014</td>\n",
       "      <td>BiocapTotGHA</td>\n",
       "      <td>5.196616e+06</td>\n",
       "      <td>2.999797e+05</td>\n",
       "      <td>9.972474e+06</td>\n",
       "      <td>1.184856e+04</td>\n",
       "      <td>6.791271e+05</td>\n",
       "      <td>0.0</td>\n",
       "      <td>1.616005e+07</td>\n",
       "      <td>18003.50</td>\n",
       "      <td>5423000</td>\n",
       "    </tr>\n",
       "    <tr>\n",
       "      <td>69771</td>\n",
       "      <td>Spain</td>\n",
       "      <td>ESP</td>\n",
       "      <td>Europe</td>\n",
       "      <td>Southern Europe</td>\n",
       "      <td>2014</td>\n",
       "      <td>BiocapTotGHA</td>\n",
       "      <td>3.676083e+07</td>\n",
       "      <td>4.549351e+06</td>\n",
       "      <td>1.559551e+07</td>\n",
       "      <td>2.737846e+06</td>\n",
       "      <td>1.792825e+06</td>\n",
       "      <td>0.0</td>\n",
       "      <td>6.143636e+07</td>\n",
       "      <td>29496.40</td>\n",
       "      <td>46260000</td>\n",
       "    </tr>\n",
       "    <tr>\n",
       "      <td>71661</td>\n",
       "      <td>Sweden</td>\n",
       "      <td>SWE</td>\n",
       "      <td>Europe</td>\n",
       "      <td>Northern Europe</td>\n",
       "      <td>2014</td>\n",
       "      <td>BiocapTotGHA</td>\n",
       "      <td>7.249506e+06</td>\n",
       "      <td>2.066161e+06</td>\n",
       "      <td>6.280403e+07</td>\n",
       "      <td>2.105545e+07</td>\n",
       "      <td>1.365236e+06</td>\n",
       "      <td>0.0</td>\n",
       "      <td>9.454039e+07</td>\n",
       "      <td>53561.90</td>\n",
       "      <td>9703000</td>\n",
       "    </tr>\n",
       "    <tr>\n",
       "      <td>72201</td>\n",
       "      <td>Switzerland</td>\n",
       "      <td>CHE</td>\n",
       "      <td>Europe</td>\n",
       "      <td>Western Europe</td>\n",
       "      <td>2014</td>\n",
       "      <td>BiocapTotGHA</td>\n",
       "      <td>1.452403e+06</td>\n",
       "      <td>9.317193e+05</td>\n",
       "      <td>5.923884e+06</td>\n",
       "      <td>5.227110e+04</td>\n",
       "      <td>5.611551e+05</td>\n",
       "      <td>0.0</td>\n",
       "      <td>8.921432e+06</td>\n",
       "      <td>76410.90</td>\n",
       "      <td>8211000</td>\n",
       "    </tr>\n",
       "    <tr>\n",
       "      <td>78771</td>\n",
       "      <td>United Kingdom</td>\n",
       "      <td>GBR</td>\n",
       "      <td>Europe</td>\n",
       "      <td>Northern Europe</td>\n",
       "      <td>2014</td>\n",
       "      <td>BiocapTotGHA</td>\n",
       "      <td>3.294999e+07</td>\n",
       "      <td>7.435343e+06</td>\n",
       "      <td>7.859615e+06</td>\n",
       "      <td>1.926546e+07</td>\n",
       "      <td>1.001221e+07</td>\n",
       "      <td>0.0</td>\n",
       "      <td>7.752262e+07</td>\n",
       "      <td>40908.70</td>\n",
       "      <td>64331000</td>\n",
       "    </tr>\n",
       "    <tr>\n",
       "      <td>79001</td>\n",
       "      <td>Ukraine</td>\n",
       "      <td>UKR</td>\n",
       "      <td>Europe</td>\n",
       "      <td>Eastern Europe</td>\n",
       "      <td>2014</td>\n",
       "      <td>BiocapTotGHA</td>\n",
       "      <td>8.360031e+07</td>\n",
       "      <td>6.485987e+06</td>\n",
       "      <td>1.928956e+07</td>\n",
       "      <td>6.888319e+06</td>\n",
       "      <td>3.776083e+06</td>\n",
       "      <td>0.0</td>\n",
       "      <td>1.200403e+08</td>\n",
       "      <td>3123.92</td>\n",
       "      <td>45002000</td>\n",
       "    </tr>\n",
       "    <tr>\n",
       "      <td>84741</td>\n",
       "      <td>Belgium</td>\n",
       "      <td>BEL</td>\n",
       "      <td>Europe</td>\n",
       "      <td>Western Europe</td>\n",
       "      <td>2014</td>\n",
       "      <td>BiocapTotGHA</td>\n",
       "      <td>4.459920e+06</td>\n",
       "      <td>3.631542e+05</td>\n",
       "      <td>3.094342e+06</td>\n",
       "      <td>4.847384e+05</td>\n",
       "      <td>2.140643e+06</td>\n",
       "      <td>0.0</td>\n",
       "      <td>1.054280e+07</td>\n",
       "      <td>44702.30</td>\n",
       "      <td>11226000</td>\n",
       "    </tr>\n",
       "    <tr>\n",
       "      <td>84891</td>\n",
       "      <td>Luxembourg</td>\n",
       "      <td>LUX</td>\n",
       "      <td>Europe</td>\n",
       "      <td>Western Europe</td>\n",
       "      <td>2014</td>\n",
       "      <td>BiocapTotGHA</td>\n",
       "      <td>2.074422e+05</td>\n",
       "      <td>4.081140e+04</td>\n",
       "      <td>4.606891e+05</td>\n",
       "      <td>3.820316e+02</td>\n",
       "      <td>5.641494e+04</td>\n",
       "      <td>0.0</td>\n",
       "      <td>7.657397e+05</td>\n",
       "      <td>107153.00</td>\n",
       "      <td>557000</td>\n",
       "    </tr>\n",
       "    <tr>\n",
       "      <td>84981</td>\n",
       "      <td>Serbia</td>\n",
       "      <td>SRB</td>\n",
       "      <td>Europe</td>\n",
       "      <td>Southern Europe</td>\n",
       "      <td>2014</td>\n",
       "      <td>BiocapTotGHA</td>\n",
       "      <td>9.701657e+06</td>\n",
       "      <td>1.573521e+05</td>\n",
       "      <td>4.398581e+06</td>\n",
       "      <td>3.130233e+04</td>\n",
       "      <td>5.719484e+05</td>\n",
       "      <td>0.0</td>\n",
       "      <td>1.486084e+07</td>\n",
       "      <td>5593.06</td>\n",
       "      <td>8893000</td>\n",
       "    </tr>\n",
       "    <tr>\n",
       "      <td>85071</td>\n",
       "      <td>Montenegro</td>\n",
       "      <td>MNE</td>\n",
       "      <td>Europe</td>\n",
       "      <td>Southern Europe</td>\n",
       "      <td>2014</td>\n",
       "      <td>BiocapTotGHA</td>\n",
       "      <td>3.491611e+04</td>\n",
       "      <td>6.708090e+04</td>\n",
       "      <td>1.620585e+06</td>\n",
       "      <td>1.516931e+05</td>\n",
       "      <td>1.286302e+04</td>\n",
       "      <td>0.0</td>\n",
       "      <td>1.887139e+06</td>\n",
       "      <td>7045.12</td>\n",
       "      <td>625000</td>\n",
       "    </tr>\n",
       "  </tbody>\n",
       "</table>\n",
       "</div>"
      ],
      "text/plain": [
       "                      country ISO alpha-3 code UN_region     UN_subregion  \\\n",
       "1301                  Albania              ALB    Europe  Southern Europe   \n",
       "4351                  Austria              AUT    Europe   Western Europe   \n",
       "9771                 Bulgaria              BGR    Europe   Eastern Europe   \n",
       "19661                 Denmark              DNK    Europe  Northern Europe   \n",
       "20971                 Belarus              BLR    Europe   Eastern Europe   \n",
       "23561                 Estonia              EST    Europe  Northern Europe   \n",
       "24641                 Finland              FIN    Europe  Northern Europe   \n",
       "25181                  France              FRA    Europe   Western Europe   \n",
       "28161                 Germany              DEU    Europe   Western Europe   \n",
       "28391  Bosnia and Herzegovina              BIH    Europe  Southern Europe   \n",
       "29481                  Greece              GRC    Europe  Southern Europe   \n",
       "33431                 Hungary              HUN    Europe   Eastern Europe   \n",
       "33661                 Croatia              HRV    Europe  Southern Europe   \n",
       "36091                 Ireland              IRL    Europe  Northern Europe   \n",
       "37171                   Italy              ITA    Europe  Southern Europe   \n",
       "42341                  Latvia              LVA    Europe  Northern Europe   \n",
       "45021               Lithuania              LTU    Europe  Northern Europe   \n",
       "47691                   Malta              MLT    Europe  Southern Europe   \n",
       "51911                 Moldova              MDA    Europe   Eastern Europe   \n",
       "53531             Netherlands              NLD    Europe   Western Europe   \n",
       "53761          Macedonia TFYR              MKD    Europe  Southern Europe   \n",
       "56461                  Norway              NOR    Europe  Northern Europe   \n",
       "57761          Czech Republic              CZE    Europe   Eastern Europe   \n",
       "60461                  Poland              POL    Europe   Eastern Europe   \n",
       "61001                Portugal              PRT    Europe  Southern Europe   \n",
       "64201                 Romania              ROU    Europe   Eastern Europe   \n",
       "64971      Russian Federation              RUS    Europe   Eastern Europe   \n",
       "67511                Slovenia              SVN    Europe  Southern Europe   \n",
       "67731                Slovakia              SVK    Europe   Eastern Europe   \n",
       "69771                   Spain              ESP    Europe  Southern Europe   \n",
       "71661                  Sweden              SWE    Europe  Northern Europe   \n",
       "72201             Switzerland              CHE    Europe   Western Europe   \n",
       "78771          United Kingdom              GBR    Europe  Northern Europe   \n",
       "79001                 Ukraine              UKR    Europe   Eastern Europe   \n",
       "84741                 Belgium              BEL    Europe   Western Europe   \n",
       "84891              Luxembourg              LUX    Europe   Western Europe   \n",
       "84981                  Serbia              SRB    Europe  Southern Europe   \n",
       "85071              Montenegro              MNE    Europe  Southern Europe   \n",
       "\n",
       "       year        record     crop_land  grazing_land   forest_land  \\\n",
       "1301   2014  BiocapTotGHA  1.142740e+06  6.316040e+05  9.127432e+05   \n",
       "4351   2014  BiocapTotGHA  5.930126e+06  1.271021e+06  1.715874e+07   \n",
       "9771   2014  BiocapTotGHA  1.278413e+07  4.809558e+05  8.731012e+06   \n",
       "19661  2014  BiocapTotGHA  1.164137e+07  4.334798e+04  1.911868e+06   \n",
       "20971  2014  BiocapTotGHA  1.311255e+07  2.576886e+06  1.600318e+07   \n",
       "23561  2014  BiocapTotGHA  1.616084e+06  1.129212e+05  5.285583e+06   \n",
       "24641  2014  BiocapTotGHA  4.809285e+06  2.594300e+05  5.193430e+07   \n",
       "25181  2014  BiocapTotGHA  8.546464e+07  1.021664e+07  6.144322e+07   \n",
       "28161  2014  BiocapTotGHA  6.499185e+07  5.171644e+06  5.554234e+07   \n",
       "28391  2014  BiocapTotGHA  1.064232e+06  7.206766e+05  4.303816e+06   \n",
       "29481  2014  BiocapTotGHA  1.095333e+07  1.585354e+06  2.551058e+06   \n",
       "33431  2014  BiocapTotGHA  1.725014e+07  5.864932e+05  6.868102e+06   \n",
       "33661  2014  BiocapTotGHA  3.009136e+06  1.382937e+06  6.617934e+06   \n",
       "36091  2014  BiocapTotGHA  2.920902e+06  3.483128e+06  2.318189e+06   \n",
       "37171  2014  BiocapTotGHA  2.666905e+07  2.507997e+06  2.022231e+07   \n",
       "42341  2014  BiocapTotGHA  2.831256e+06  6.433903e+05  8.336512e+06   \n",
       "45021  2014  BiocapTotGHA  6.785981e+06  3.250743e+05  6.272012e+06   \n",
       "47691  2014  BiocapTotGHA  3.930799e+04  0.000000e+00  3.128528e+02   \n",
       "51911  2014  BiocapTotGHA  3.869157e+06  2.458640e+05  3.492745e+05   \n",
       "53531  2014  BiocapTotGHA  3.836819e+06  7.253454e+05  1.316090e+06   \n",
       "53761  2014  BiocapTotGHA  9.899660e+05  3.506688e+05  1.925065e+06   \n",
       "56461  2014  BiocapTotGHA  1.452656e+06  3.064569e+06  1.799338e+07   \n",
       "57761  2014  BiocapTotGHA  1.171455e+07  7.394368e+05  1.389408e+07   \n",
       "60461  2014  BiocapTotGHA  4.088799e+07  2.577007e+06  2.913528e+07   \n",
       "61001  2014  BiocapTotGHA  2.624884e+06  6.649645e+05  8.896825e+06   \n",
       "64201  2014  BiocapTotGHA  2.413677e+07  2.405766e+06  2.506300e+07   \n",
       "64971  2014  BiocapTotGHA  1.388779e+08  4.937793e+07  6.214395e+08   \n",
       "67511  2014  BiocapTotGHA  6.218116e+05  1.793888e+05  3.833924e+06   \n",
       "67731  2014  BiocapTotGHA  5.196616e+06  2.999797e+05  9.972474e+06   \n",
       "69771  2014  BiocapTotGHA  3.676083e+07  4.549351e+06  1.559551e+07   \n",
       "71661  2014  BiocapTotGHA  7.249506e+06  2.066161e+06  6.280403e+07   \n",
       "72201  2014  BiocapTotGHA  1.452403e+06  9.317193e+05  5.923884e+06   \n",
       "78771  2014  BiocapTotGHA  3.294999e+07  7.435343e+06  7.859615e+06   \n",
       "79001  2014  BiocapTotGHA  8.360031e+07  6.485987e+06  1.928956e+07   \n",
       "84741  2014  BiocapTotGHA  4.459920e+06  3.631542e+05  3.094342e+06   \n",
       "84891  2014  BiocapTotGHA  2.074422e+05  4.081140e+04  4.606891e+05   \n",
       "84981  2014  BiocapTotGHA  9.701657e+06  1.573521e+05  4.398581e+06   \n",
       "85071  2014  BiocapTotGHA  3.491611e+04  6.708090e+04  1.620585e+06   \n",
       "\n",
       "       fishing_ground  built_up_land  carbon         total  \\\n",
       "1301     2.366176e+05   1.149292e+05     0.0  3.038634e+06   \n",
       "4351     2.634351e+04   1.287431e+06     0.0  2.567366e+07   \n",
       "9771     8.730221e+05   1.155183e+06     0.0  2.402430e+07   \n",
       "19661    1.018418e+07   1.208866e+06     0.0  2.498962e+07   \n",
       "20971    1.724474e+05   7.655820e+05     0.0  3.263065e+07   \n",
       "23561    5.693952e+06   9.636372e+04     0.0  1.280490e+07   \n",
       "24641    1.263859e+07   8.504326e+05     0.0  7.049204e+07   \n",
       "25181    7.221237e+06   1.053633e+07     0.0  1.748821e+08   \n",
       "28161    6.054673e+06   1.263740e+07     0.0  1.443979e+08   \n",
       "28391    1.191273e+04   5.486665e+04     0.0  6.155504e+06   \n",
       "29481    1.927514e+06   6.277952e+05     0.0  1.764505e+07   \n",
       "33431    4.720215e+04   1.778033e+06     0.0  2.652997e+07   \n",
       "33661    1.446035e+06   2.848186e+05     0.0  1.274086e+07   \n",
       "36091    6.899431e+06   4.732581e+05     0.0  1.609491e+07   \n",
       "37171    3.720137e+06   2.932054e+06     0.0  5.605155e+07   \n",
       "42341    4.007723e+06   1.114406e+05     0.0  1.593032e+07   \n",
       "45021    9.054460e+05   2.891728e+05     0.0  1.457769e+07   \n",
       "47691    1.983530e+05   2.121933e+04     0.0  2.591932e+05   \n",
       "51911    3.603378e+04   2.240754e+05     0.0  4.724404e+06   \n",
       "53531    7.191421e+06   1.508056e+06     0.0  1.457773e+07   \n",
       "53761    3.446953e+04   5.985162e+04     0.0  3.360021e+06   \n",
       "56461    1.535985e+07   2.842342e+05     0.0  3.815468e+07   \n",
       "57761    2.125438e+04   1.606858e+06     0.0  2.797618e+07   \n",
       "60461    4.139773e+06   3.426010e+06     0.0  8.016606e+07   \n",
       "61001    7.728040e+05   2.545312e+05     0.0  1.321401e+07   \n",
       "64201    1.820096e+06   3.135332e+06     0.0  5.656096e+07   \n",
       "64971    1.712961e+08   5.336687e+06     0.0  9.863281e+08   \n",
       "67511    8.786835e+03   5.149029e+04     0.0  4.695401e+06   \n",
       "67731    1.184856e+04   6.791271e+05     0.0  1.616005e+07   \n",
       "69771    2.737846e+06   1.792825e+06     0.0  6.143636e+07   \n",
       "71661    2.105545e+07   1.365236e+06     0.0  9.454039e+07   \n",
       "72201    5.227110e+04   5.611551e+05     0.0  8.921432e+06   \n",
       "78771    1.926546e+07   1.001221e+07     0.0  7.752262e+07   \n",
       "79001    6.888319e+06   3.776083e+06     0.0  1.200403e+08   \n",
       "84741    4.847384e+05   2.140643e+06     0.0  1.054280e+07   \n",
       "84891    3.820316e+02   5.641494e+04     0.0  7.657397e+05   \n",
       "84981    3.130233e+04   5.719484e+05     0.0  1.486084e+07   \n",
       "85071    1.516931e+05   1.286302e+04     0.0  1.887139e+06   \n",
       "\n",
       "       Percapita GDP (2010 USD)  population  \n",
       "1301                    4413.56     2890000  \n",
       "4351                   47886.60     8517000  \n",
       "9771                    7299.55     7201000  \n",
       "19661                  59437.90     5647000  \n",
       "20971                   6664.10     9500000  \n",
       "23561                  17453.40     1316000  \n",
       "24641                  45239.40     5480000  \n",
       "25181                  41431.00    64159000  \n",
       "28161                  45022.60    80646000  \n",
       "28391                   4992.91     3818000  \n",
       "29481                  22565.70    11001000  \n",
       "33431                  14119.10     9890000  \n",
       "33661                  13517.80     4256000  \n",
       "36091                  54527.30     4675000  \n",
       "37171                  33626.10    59821000  \n",
       "42341                  13786.40     1989000  \n",
       "45021                  14932.60     2917000  \n",
       "47691                  24080.20      418000  \n",
       "51911                   1986.94     4072000  \n",
       "53531                  50497.20    16868000  \n",
       "53761                   4920.22     2076000  \n",
       "56461                  89275.00     5148000  \n",
       "57761                  20343.70    10543000  \n",
       "60461                  14088.70    38620000  \n",
       "61001                  21533.50    10402000  \n",
       "64201                   9158.52    19652000  \n",
       "64971                  11493.70   143429000  \n",
       "67511                  23224.40     2066000  \n",
       "67731                  18003.50     5423000  \n",
       "69771                  29496.40    46260000  \n",
       "71661                  53561.90     9703000  \n",
       "72201                  76410.90     8211000  \n",
       "78771                  40908.70    64331000  \n",
       "79001                   3123.92    45002000  \n",
       "84741                  44702.30    11226000  \n",
       "84891                 107153.00      557000  \n",
       "84981                   5593.06     8893000  \n",
       "85071                   7045.12      625000  "
      ]
     },
     "metadata": {},
     "output_type": "display_data"
    }
   ],
   "source": [
    "# df[\"A\"][(df[\"B\"] > 50) & (df[\"C\"] == 900)]\n",
    "xd = df.loc[df.record == \"BiocapTotGHA\"]\n",
    "xd = xd.loc[xd.year == 2014]\n",
    "xd = xd.loc[xd.UN_region == \"Europe\"]\n",
    "\n",
    "display(xd)"
   ]
  },
  {
   "cell_type": "code",
   "execution_count": 64,
   "metadata": {},
   "outputs": [
    {
     "data": {
      "application/vnd.plotly.v1+json": {
       "config": {
        "plotlyServerURL": "https://plot.ly"
       },
       "data": [
        {
         "type": "bar",
         "x": [
          "Albania",
          "Austria",
          "Bulgaria",
          "Denmark",
          "Belarus",
          "Estonia",
          "Finland",
          "France",
          "Germany",
          "Bosnia and Herzegovina",
          "Greece",
          "Hungary",
          "Croatia",
          "Ireland",
          "Italy",
          "Latvia",
          "Lithuania",
          "Malta",
          "Moldova",
          "Netherlands",
          "Macedonia TFYR",
          "Norway",
          "Czech Republic",
          "Poland",
          "Portugal",
          "Romania",
          "Russian Federation",
          "Slovenia",
          "Slovakia",
          "Spain",
          "Sweden",
          "Switzerland",
          "United Kingdom",
          "Ukraine",
          "Belgium",
          "Luxembourg",
          "Serbia",
          "Montenegro"
         ],
         "y": [
          3038634.272,
          25673659.36,
          24024299.38,
          24989624.39,
          32630646.34,
          12804904.8,
          70492035.25,
          174882065.1,
          144397903.7,
          6155504.185,
          17645046.35,
          26529966.19,
          12740860.39,
          16094908.76,
          56051550.91,
          15930320.99,
          14577685.44,
          259193.2193,
          4724404.148,
          14577731.18,
          3360020.742,
          38154684.14,
          27976176.7,
          80166059.46,
          13214008.81,
          56560958.89,
          986328108.9,
          4695401.26,
          16160045.43,
          61436365,
          94540387.71,
          8921432.293,
          77522615.85,
          120040260.7,
          10542797.85,
          765739.7048,
          14860840.56,
          1887138.555
         ]
        }
       ],
       "layout": {
        "barmode": "stack",
        "template": {
         "data": {
          "bar": [
           {
            "error_x": {
             "color": "#2a3f5f"
            },
            "error_y": {
             "color": "#2a3f5f"
            },
            "marker": {
             "line": {
              "color": "#E5ECF6",
              "width": 0.5
             }
            },
            "type": "bar"
           }
          ],
          "barpolar": [
           {
            "marker": {
             "line": {
              "color": "#E5ECF6",
              "width": 0.5
             }
            },
            "type": "barpolar"
           }
          ],
          "carpet": [
           {
            "aaxis": {
             "endlinecolor": "#2a3f5f",
             "gridcolor": "white",
             "linecolor": "white",
             "minorgridcolor": "white",
             "startlinecolor": "#2a3f5f"
            },
            "baxis": {
             "endlinecolor": "#2a3f5f",
             "gridcolor": "white",
             "linecolor": "white",
             "minorgridcolor": "white",
             "startlinecolor": "#2a3f5f"
            },
            "type": "carpet"
           }
          ],
          "choropleth": [
           {
            "colorbar": {
             "outlinewidth": 0,
             "ticks": ""
            },
            "type": "choropleth"
           }
          ],
          "contour": [
           {
            "colorbar": {
             "outlinewidth": 0,
             "ticks": ""
            },
            "colorscale": [
             [
              0,
              "#0d0887"
             ],
             [
              0.1111111111111111,
              "#46039f"
             ],
             [
              0.2222222222222222,
              "#7201a8"
             ],
             [
              0.3333333333333333,
              "#9c179e"
             ],
             [
              0.4444444444444444,
              "#bd3786"
             ],
             [
              0.5555555555555556,
              "#d8576b"
             ],
             [
              0.6666666666666666,
              "#ed7953"
             ],
             [
              0.7777777777777778,
              "#fb9f3a"
             ],
             [
              0.8888888888888888,
              "#fdca26"
             ],
             [
              1,
              "#f0f921"
             ]
            ],
            "type": "contour"
           }
          ],
          "contourcarpet": [
           {
            "colorbar": {
             "outlinewidth": 0,
             "ticks": ""
            },
            "type": "contourcarpet"
           }
          ],
          "heatmap": [
           {
            "colorbar": {
             "outlinewidth": 0,
             "ticks": ""
            },
            "colorscale": [
             [
              0,
              "#0d0887"
             ],
             [
              0.1111111111111111,
              "#46039f"
             ],
             [
              0.2222222222222222,
              "#7201a8"
             ],
             [
              0.3333333333333333,
              "#9c179e"
             ],
             [
              0.4444444444444444,
              "#bd3786"
             ],
             [
              0.5555555555555556,
              "#d8576b"
             ],
             [
              0.6666666666666666,
              "#ed7953"
             ],
             [
              0.7777777777777778,
              "#fb9f3a"
             ],
             [
              0.8888888888888888,
              "#fdca26"
             ],
             [
              1,
              "#f0f921"
             ]
            ],
            "type": "heatmap"
           }
          ],
          "heatmapgl": [
           {
            "colorbar": {
             "outlinewidth": 0,
             "ticks": ""
            },
            "colorscale": [
             [
              0,
              "#0d0887"
             ],
             [
              0.1111111111111111,
              "#46039f"
             ],
             [
              0.2222222222222222,
              "#7201a8"
             ],
             [
              0.3333333333333333,
              "#9c179e"
             ],
             [
              0.4444444444444444,
              "#bd3786"
             ],
             [
              0.5555555555555556,
              "#d8576b"
             ],
             [
              0.6666666666666666,
              "#ed7953"
             ],
             [
              0.7777777777777778,
              "#fb9f3a"
             ],
             [
              0.8888888888888888,
              "#fdca26"
             ],
             [
              1,
              "#f0f921"
             ]
            ],
            "type": "heatmapgl"
           }
          ],
          "histogram": [
           {
            "marker": {
             "colorbar": {
              "outlinewidth": 0,
              "ticks": ""
             }
            },
            "type": "histogram"
           }
          ],
          "histogram2d": [
           {
            "colorbar": {
             "outlinewidth": 0,
             "ticks": ""
            },
            "colorscale": [
             [
              0,
              "#0d0887"
             ],
             [
              0.1111111111111111,
              "#46039f"
             ],
             [
              0.2222222222222222,
              "#7201a8"
             ],
             [
              0.3333333333333333,
              "#9c179e"
             ],
             [
              0.4444444444444444,
              "#bd3786"
             ],
             [
              0.5555555555555556,
              "#d8576b"
             ],
             [
              0.6666666666666666,
              "#ed7953"
             ],
             [
              0.7777777777777778,
              "#fb9f3a"
             ],
             [
              0.8888888888888888,
              "#fdca26"
             ],
             [
              1,
              "#f0f921"
             ]
            ],
            "type": "histogram2d"
           }
          ],
          "histogram2dcontour": [
           {
            "colorbar": {
             "outlinewidth": 0,
             "ticks": ""
            },
            "colorscale": [
             [
              0,
              "#0d0887"
             ],
             [
              0.1111111111111111,
              "#46039f"
             ],
             [
              0.2222222222222222,
              "#7201a8"
             ],
             [
              0.3333333333333333,
              "#9c179e"
             ],
             [
              0.4444444444444444,
              "#bd3786"
             ],
             [
              0.5555555555555556,
              "#d8576b"
             ],
             [
              0.6666666666666666,
              "#ed7953"
             ],
             [
              0.7777777777777778,
              "#fb9f3a"
             ],
             [
              0.8888888888888888,
              "#fdca26"
             ],
             [
              1,
              "#f0f921"
             ]
            ],
            "type": "histogram2dcontour"
           }
          ],
          "mesh3d": [
           {
            "colorbar": {
             "outlinewidth": 0,
             "ticks": ""
            },
            "type": "mesh3d"
           }
          ],
          "parcoords": [
           {
            "line": {
             "colorbar": {
              "outlinewidth": 0,
              "ticks": ""
             }
            },
            "type": "parcoords"
           }
          ],
          "pie": [
           {
            "automargin": true,
            "type": "pie"
           }
          ],
          "scatter": [
           {
            "marker": {
             "colorbar": {
              "outlinewidth": 0,
              "ticks": ""
             }
            },
            "type": "scatter"
           }
          ],
          "scatter3d": [
           {
            "line": {
             "colorbar": {
              "outlinewidth": 0,
              "ticks": ""
             }
            },
            "marker": {
             "colorbar": {
              "outlinewidth": 0,
              "ticks": ""
             }
            },
            "type": "scatter3d"
           }
          ],
          "scattercarpet": [
           {
            "marker": {
             "colorbar": {
              "outlinewidth": 0,
              "ticks": ""
             }
            },
            "type": "scattercarpet"
           }
          ],
          "scattergeo": [
           {
            "marker": {
             "colorbar": {
              "outlinewidth": 0,
              "ticks": ""
             }
            },
            "type": "scattergeo"
           }
          ],
          "scattergl": [
           {
            "marker": {
             "colorbar": {
              "outlinewidth": 0,
              "ticks": ""
             }
            },
            "type": "scattergl"
           }
          ],
          "scattermapbox": [
           {
            "marker": {
             "colorbar": {
              "outlinewidth": 0,
              "ticks": ""
             }
            },
            "type": "scattermapbox"
           }
          ],
          "scatterpolar": [
           {
            "marker": {
             "colorbar": {
              "outlinewidth": 0,
              "ticks": ""
             }
            },
            "type": "scatterpolar"
           }
          ],
          "scatterpolargl": [
           {
            "marker": {
             "colorbar": {
              "outlinewidth": 0,
              "ticks": ""
             }
            },
            "type": "scatterpolargl"
           }
          ],
          "scatterternary": [
           {
            "marker": {
             "colorbar": {
              "outlinewidth": 0,
              "ticks": ""
             }
            },
            "type": "scatterternary"
           }
          ],
          "surface": [
           {
            "colorbar": {
             "outlinewidth": 0,
             "ticks": ""
            },
            "colorscale": [
             [
              0,
              "#0d0887"
             ],
             [
              0.1111111111111111,
              "#46039f"
             ],
             [
              0.2222222222222222,
              "#7201a8"
             ],
             [
              0.3333333333333333,
              "#9c179e"
             ],
             [
              0.4444444444444444,
              "#bd3786"
             ],
             [
              0.5555555555555556,
              "#d8576b"
             ],
             [
              0.6666666666666666,
              "#ed7953"
             ],
             [
              0.7777777777777778,
              "#fb9f3a"
             ],
             [
              0.8888888888888888,
              "#fdca26"
             ],
             [
              1,
              "#f0f921"
             ]
            ],
            "type": "surface"
           }
          ],
          "table": [
           {
            "cells": {
             "fill": {
              "color": "#EBF0F8"
             },
             "line": {
              "color": "white"
             }
            },
            "header": {
             "fill": {
              "color": "#C8D4E3"
             },
             "line": {
              "color": "white"
             }
            },
            "type": "table"
           }
          ]
         },
         "layout": {
          "annotationdefaults": {
           "arrowcolor": "#2a3f5f",
           "arrowhead": 0,
           "arrowwidth": 1
          },
          "coloraxis": {
           "colorbar": {
            "outlinewidth": 0,
            "ticks": ""
           }
          },
          "colorscale": {
           "diverging": [
            [
             0,
             "#8e0152"
            ],
            [
             0.1,
             "#c51b7d"
            ],
            [
             0.2,
             "#de77ae"
            ],
            [
             0.3,
             "#f1b6da"
            ],
            [
             0.4,
             "#fde0ef"
            ],
            [
             0.5,
             "#f7f7f7"
            ],
            [
             0.6,
             "#e6f5d0"
            ],
            [
             0.7,
             "#b8e186"
            ],
            [
             0.8,
             "#7fbc41"
            ],
            [
             0.9,
             "#4d9221"
            ],
            [
             1,
             "#276419"
            ]
           ],
           "sequential": [
            [
             0,
             "#0d0887"
            ],
            [
             0.1111111111111111,
             "#46039f"
            ],
            [
             0.2222222222222222,
             "#7201a8"
            ],
            [
             0.3333333333333333,
             "#9c179e"
            ],
            [
             0.4444444444444444,
             "#bd3786"
            ],
            [
             0.5555555555555556,
             "#d8576b"
            ],
            [
             0.6666666666666666,
             "#ed7953"
            ],
            [
             0.7777777777777778,
             "#fb9f3a"
            ],
            [
             0.8888888888888888,
             "#fdca26"
            ],
            [
             1,
             "#f0f921"
            ]
           ],
           "sequentialminus": [
            [
             0,
             "#0d0887"
            ],
            [
             0.1111111111111111,
             "#46039f"
            ],
            [
             0.2222222222222222,
             "#7201a8"
            ],
            [
             0.3333333333333333,
             "#9c179e"
            ],
            [
             0.4444444444444444,
             "#bd3786"
            ],
            [
             0.5555555555555556,
             "#d8576b"
            ],
            [
             0.6666666666666666,
             "#ed7953"
            ],
            [
             0.7777777777777778,
             "#fb9f3a"
            ],
            [
             0.8888888888888888,
             "#fdca26"
            ],
            [
             1,
             "#f0f921"
            ]
           ]
          },
          "colorway": [
           "#636efa",
           "#EF553B",
           "#00cc96",
           "#ab63fa",
           "#FFA15A",
           "#19d3f3",
           "#FF6692",
           "#B6E880",
           "#FF97FF",
           "#FECB52"
          ],
          "font": {
           "color": "#2a3f5f"
          },
          "geo": {
           "bgcolor": "white",
           "lakecolor": "white",
           "landcolor": "#E5ECF6",
           "showlakes": true,
           "showland": true,
           "subunitcolor": "white"
          },
          "hoverlabel": {
           "align": "left"
          },
          "hovermode": "closest",
          "mapbox": {
           "style": "light"
          },
          "paper_bgcolor": "white",
          "plot_bgcolor": "#E5ECF6",
          "polar": {
           "angularaxis": {
            "gridcolor": "white",
            "linecolor": "white",
            "ticks": ""
           },
           "bgcolor": "#E5ECF6",
           "radialaxis": {
            "gridcolor": "white",
            "linecolor": "white",
            "ticks": ""
           }
          },
          "scene": {
           "xaxis": {
            "backgroundcolor": "#E5ECF6",
            "gridcolor": "white",
            "gridwidth": 2,
            "linecolor": "white",
            "showbackground": true,
            "ticks": "",
            "zerolinecolor": "white"
           },
           "yaxis": {
            "backgroundcolor": "#E5ECF6",
            "gridcolor": "white",
            "gridwidth": 2,
            "linecolor": "white",
            "showbackground": true,
            "ticks": "",
            "zerolinecolor": "white"
           },
           "zaxis": {
            "backgroundcolor": "#E5ECF6",
            "gridcolor": "white",
            "gridwidth": 2,
            "linecolor": "white",
            "showbackground": true,
            "ticks": "",
            "zerolinecolor": "white"
           }
          },
          "shapedefaults": {
           "line": {
            "color": "#2a3f5f"
           }
          },
          "ternary": {
           "aaxis": {
            "gridcolor": "white",
            "linecolor": "white",
            "ticks": ""
           },
           "baxis": {
            "gridcolor": "white",
            "linecolor": "white",
            "ticks": ""
           },
           "bgcolor": "#E5ECF6",
           "caxis": {
            "gridcolor": "white",
            "linecolor": "white",
            "ticks": ""
           }
          },
          "title": {
           "x": 0.05
          },
          "xaxis": {
           "automargin": true,
           "gridcolor": "white",
           "linecolor": "white",
           "ticks": "",
           "title": {
            "standoff": 15
           },
           "zerolinecolor": "white",
           "zerolinewidth": 2
          },
          "yaxis": {
           "automargin": true,
           "gridcolor": "white",
           "linecolor": "white",
           "ticks": "",
           "title": {
            "standoff": 15
           },
           "zerolinecolor": "white",
           "zerolinewidth": 2
          }
         }
        },
        "xaxis": {
         "categoryorder": "total ascending"
        }
       }
      },
      "text/html": [
       "<div>\n",
       "        \n",
       "        \n",
       "            <div id=\"d023ba6a-ea71-4d55-9ede-f73294f143d0\" class=\"plotly-graph-div\" style=\"height:525px; width:100%;\"></div>\n",
       "            <script type=\"text/javascript\">\n",
       "                require([\"plotly\"], function(Plotly) {\n",
       "                    window.PLOTLYENV=window.PLOTLYENV || {};\n",
       "                    \n",
       "                if (document.getElementById(\"d023ba6a-ea71-4d55-9ede-f73294f143d0\")) {\n",
       "                    Plotly.newPlot(\n",
       "                        'd023ba6a-ea71-4d55-9ede-f73294f143d0',\n",
       "                        [{\"type\": \"bar\", \"x\": [\"Albania\", \"Austria\", \"Bulgaria\", \"Denmark\", \"Belarus\", \"Estonia\", \"Finland\", \"France\", \"Germany\", \"Bosnia and Herzegovina\", \"Greece\", \"Hungary\", \"Croatia\", \"Ireland\", \"Italy\", \"Latvia\", \"Lithuania\", \"Malta\", \"Moldova\", \"Netherlands\", \"Macedonia TFYR\", \"Norway\", \"Czech Republic\", \"Poland\", \"Portugal\", \"Romania\", \"Russian Federation\", \"Slovenia\", \"Slovakia\", \"Spain\", \"Sweden\", \"Switzerland\", \"United Kingdom\", \"Ukraine\", \"Belgium\", \"Luxembourg\", \"Serbia\", \"Montenegro\"], \"y\": [3038634.272, 25673659.36, 24024299.38, 24989624.39, 32630646.34, 12804904.8, 70492035.25, 174882065.1, 144397903.7, 6155504.185, 17645046.35, 26529966.19, 12740860.39, 16094908.76, 56051550.91, 15930320.99, 14577685.44, 259193.2193, 4724404.148, 14577731.18, 3360020.742, 38154684.14, 27976176.7, 80166059.46, 13214008.81, 56560958.89, 986328108.9, 4695401.26, 16160045.43, 61436365.0, 94540387.71, 8921432.293, 77522615.85, 120040260.7, 10542797.85, 765739.7048, 14860840.56, 1887138.555]}],\n",
       "                        {\"barmode\": \"stack\", \"template\": {\"data\": {\"bar\": [{\"error_x\": {\"color\": \"#2a3f5f\"}, \"error_y\": {\"color\": \"#2a3f5f\"}, \"marker\": {\"line\": {\"color\": \"#E5ECF6\", \"width\": 0.5}}, \"type\": \"bar\"}], \"barpolar\": [{\"marker\": {\"line\": {\"color\": \"#E5ECF6\", \"width\": 0.5}}, \"type\": \"barpolar\"}], \"carpet\": [{\"aaxis\": {\"endlinecolor\": \"#2a3f5f\", \"gridcolor\": \"white\", \"linecolor\": \"white\", \"minorgridcolor\": \"white\", \"startlinecolor\": \"#2a3f5f\"}, \"baxis\": {\"endlinecolor\": \"#2a3f5f\", \"gridcolor\": \"white\", \"linecolor\": \"white\", \"minorgridcolor\": \"white\", \"startlinecolor\": \"#2a3f5f\"}, \"type\": \"carpet\"}], \"choropleth\": [{\"colorbar\": {\"outlinewidth\": 0, \"ticks\": \"\"}, \"type\": \"choropleth\"}], \"contour\": [{\"colorbar\": {\"outlinewidth\": 0, \"ticks\": \"\"}, \"colorscale\": [[0.0, \"#0d0887\"], [0.1111111111111111, \"#46039f\"], [0.2222222222222222, \"#7201a8\"], [0.3333333333333333, \"#9c179e\"], [0.4444444444444444, \"#bd3786\"], [0.5555555555555556, \"#d8576b\"], [0.6666666666666666, \"#ed7953\"], [0.7777777777777778, \"#fb9f3a\"], [0.8888888888888888, \"#fdca26\"], [1.0, \"#f0f921\"]], \"type\": \"contour\"}], \"contourcarpet\": [{\"colorbar\": {\"outlinewidth\": 0, \"ticks\": \"\"}, \"type\": \"contourcarpet\"}], \"heatmap\": [{\"colorbar\": {\"outlinewidth\": 0, \"ticks\": \"\"}, \"colorscale\": [[0.0, \"#0d0887\"], [0.1111111111111111, \"#46039f\"], [0.2222222222222222, \"#7201a8\"], [0.3333333333333333, \"#9c179e\"], [0.4444444444444444, \"#bd3786\"], [0.5555555555555556, \"#d8576b\"], [0.6666666666666666, \"#ed7953\"], [0.7777777777777778, \"#fb9f3a\"], [0.8888888888888888, \"#fdca26\"], [1.0, \"#f0f921\"]], \"type\": \"heatmap\"}], \"heatmapgl\": [{\"colorbar\": {\"outlinewidth\": 0, \"ticks\": \"\"}, \"colorscale\": [[0.0, \"#0d0887\"], [0.1111111111111111, \"#46039f\"], [0.2222222222222222, \"#7201a8\"], [0.3333333333333333, \"#9c179e\"], [0.4444444444444444, \"#bd3786\"], [0.5555555555555556, \"#d8576b\"], [0.6666666666666666, \"#ed7953\"], [0.7777777777777778, \"#fb9f3a\"], [0.8888888888888888, \"#fdca26\"], [1.0, \"#f0f921\"]], \"type\": \"heatmapgl\"}], \"histogram\": [{\"marker\": {\"colorbar\": {\"outlinewidth\": 0, \"ticks\": \"\"}}, \"type\": \"histogram\"}], \"histogram2d\": [{\"colorbar\": {\"outlinewidth\": 0, \"ticks\": \"\"}, \"colorscale\": [[0.0, \"#0d0887\"], [0.1111111111111111, \"#46039f\"], [0.2222222222222222, \"#7201a8\"], [0.3333333333333333, \"#9c179e\"], [0.4444444444444444, \"#bd3786\"], [0.5555555555555556, \"#d8576b\"], [0.6666666666666666, \"#ed7953\"], [0.7777777777777778, \"#fb9f3a\"], [0.8888888888888888, \"#fdca26\"], [1.0, \"#f0f921\"]], \"type\": \"histogram2d\"}], \"histogram2dcontour\": [{\"colorbar\": {\"outlinewidth\": 0, \"ticks\": \"\"}, \"colorscale\": [[0.0, \"#0d0887\"], [0.1111111111111111, \"#46039f\"], [0.2222222222222222, \"#7201a8\"], [0.3333333333333333, \"#9c179e\"], [0.4444444444444444, \"#bd3786\"], [0.5555555555555556, \"#d8576b\"], [0.6666666666666666, \"#ed7953\"], [0.7777777777777778, \"#fb9f3a\"], [0.8888888888888888, \"#fdca26\"], [1.0, \"#f0f921\"]], \"type\": \"histogram2dcontour\"}], \"mesh3d\": [{\"colorbar\": {\"outlinewidth\": 0, \"ticks\": \"\"}, \"type\": \"mesh3d\"}], \"parcoords\": [{\"line\": {\"colorbar\": {\"outlinewidth\": 0, \"ticks\": \"\"}}, \"type\": \"parcoords\"}], \"pie\": [{\"automargin\": true, \"type\": \"pie\"}], \"scatter\": [{\"marker\": {\"colorbar\": {\"outlinewidth\": 0, \"ticks\": \"\"}}, \"type\": \"scatter\"}], \"scatter3d\": [{\"line\": {\"colorbar\": {\"outlinewidth\": 0, \"ticks\": \"\"}}, \"marker\": {\"colorbar\": {\"outlinewidth\": 0, \"ticks\": \"\"}}, \"type\": \"scatter3d\"}], \"scattercarpet\": [{\"marker\": {\"colorbar\": {\"outlinewidth\": 0, \"ticks\": \"\"}}, \"type\": \"scattercarpet\"}], \"scattergeo\": [{\"marker\": {\"colorbar\": {\"outlinewidth\": 0, \"ticks\": \"\"}}, \"type\": \"scattergeo\"}], \"scattergl\": [{\"marker\": {\"colorbar\": {\"outlinewidth\": 0, \"ticks\": \"\"}}, \"type\": \"scattergl\"}], \"scattermapbox\": [{\"marker\": {\"colorbar\": {\"outlinewidth\": 0, \"ticks\": \"\"}}, \"type\": \"scattermapbox\"}], \"scatterpolar\": [{\"marker\": {\"colorbar\": {\"outlinewidth\": 0, \"ticks\": \"\"}}, \"type\": \"scatterpolar\"}], \"scatterpolargl\": [{\"marker\": {\"colorbar\": {\"outlinewidth\": 0, \"ticks\": \"\"}}, \"type\": \"scatterpolargl\"}], \"scatterternary\": [{\"marker\": {\"colorbar\": {\"outlinewidth\": 0, \"ticks\": \"\"}}, \"type\": \"scatterternary\"}], \"surface\": [{\"colorbar\": {\"outlinewidth\": 0, \"ticks\": \"\"}, \"colorscale\": [[0.0, \"#0d0887\"], [0.1111111111111111, \"#46039f\"], [0.2222222222222222, \"#7201a8\"], [0.3333333333333333, \"#9c179e\"], [0.4444444444444444, \"#bd3786\"], [0.5555555555555556, \"#d8576b\"], [0.6666666666666666, \"#ed7953\"], [0.7777777777777778, \"#fb9f3a\"], [0.8888888888888888, \"#fdca26\"], [1.0, \"#f0f921\"]], \"type\": \"surface\"}], \"table\": [{\"cells\": {\"fill\": {\"color\": \"#EBF0F8\"}, \"line\": {\"color\": \"white\"}}, \"header\": {\"fill\": {\"color\": \"#C8D4E3\"}, \"line\": {\"color\": \"white\"}}, \"type\": \"table\"}]}, \"layout\": {\"annotationdefaults\": {\"arrowcolor\": \"#2a3f5f\", \"arrowhead\": 0, \"arrowwidth\": 1}, \"coloraxis\": {\"colorbar\": {\"outlinewidth\": 0, \"ticks\": \"\"}}, \"colorscale\": {\"diverging\": [[0, \"#8e0152\"], [0.1, \"#c51b7d\"], [0.2, \"#de77ae\"], [0.3, \"#f1b6da\"], [0.4, \"#fde0ef\"], [0.5, \"#f7f7f7\"], [0.6, \"#e6f5d0\"], [0.7, \"#b8e186\"], [0.8, \"#7fbc41\"], [0.9, \"#4d9221\"], [1, \"#276419\"]], \"sequential\": [[0.0, \"#0d0887\"], [0.1111111111111111, \"#46039f\"], [0.2222222222222222, \"#7201a8\"], [0.3333333333333333, \"#9c179e\"], [0.4444444444444444, \"#bd3786\"], [0.5555555555555556, \"#d8576b\"], [0.6666666666666666, \"#ed7953\"], [0.7777777777777778, \"#fb9f3a\"], [0.8888888888888888, \"#fdca26\"], [1.0, \"#f0f921\"]], \"sequentialminus\": [[0.0, \"#0d0887\"], [0.1111111111111111, \"#46039f\"], [0.2222222222222222, \"#7201a8\"], [0.3333333333333333, \"#9c179e\"], [0.4444444444444444, \"#bd3786\"], [0.5555555555555556, \"#d8576b\"], [0.6666666666666666, \"#ed7953\"], [0.7777777777777778, \"#fb9f3a\"], [0.8888888888888888, \"#fdca26\"], [1.0, \"#f0f921\"]]}, \"colorway\": [\"#636efa\", \"#EF553B\", \"#00cc96\", \"#ab63fa\", \"#FFA15A\", \"#19d3f3\", \"#FF6692\", \"#B6E880\", \"#FF97FF\", \"#FECB52\"], \"font\": {\"color\": \"#2a3f5f\"}, \"geo\": {\"bgcolor\": \"white\", \"lakecolor\": \"white\", \"landcolor\": \"#E5ECF6\", \"showlakes\": true, \"showland\": true, \"subunitcolor\": \"white\"}, \"hoverlabel\": {\"align\": \"left\"}, \"hovermode\": \"closest\", \"mapbox\": {\"style\": \"light\"}, \"paper_bgcolor\": \"white\", \"plot_bgcolor\": \"#E5ECF6\", \"polar\": {\"angularaxis\": {\"gridcolor\": \"white\", \"linecolor\": \"white\", \"ticks\": \"\"}, \"bgcolor\": \"#E5ECF6\", \"radialaxis\": {\"gridcolor\": \"white\", \"linecolor\": \"white\", \"ticks\": \"\"}}, \"scene\": {\"xaxis\": {\"backgroundcolor\": \"#E5ECF6\", \"gridcolor\": \"white\", \"gridwidth\": 2, \"linecolor\": \"white\", \"showbackground\": true, \"ticks\": \"\", \"zerolinecolor\": \"white\"}, \"yaxis\": {\"backgroundcolor\": \"#E5ECF6\", \"gridcolor\": \"white\", \"gridwidth\": 2, \"linecolor\": \"white\", \"showbackground\": true, \"ticks\": \"\", \"zerolinecolor\": \"white\"}, \"zaxis\": {\"backgroundcolor\": \"#E5ECF6\", \"gridcolor\": \"white\", \"gridwidth\": 2, \"linecolor\": \"white\", \"showbackground\": true, \"ticks\": \"\", \"zerolinecolor\": \"white\"}}, \"shapedefaults\": {\"line\": {\"color\": \"#2a3f5f\"}}, \"ternary\": {\"aaxis\": {\"gridcolor\": \"white\", \"linecolor\": \"white\", \"ticks\": \"\"}, \"baxis\": {\"gridcolor\": \"white\", \"linecolor\": \"white\", \"ticks\": \"\"}, \"bgcolor\": \"#E5ECF6\", \"caxis\": {\"gridcolor\": \"white\", \"linecolor\": \"white\", \"ticks\": \"\"}}, \"title\": {\"x\": 0.05}, \"xaxis\": {\"automargin\": true, \"gridcolor\": \"white\", \"linecolor\": \"white\", \"ticks\": \"\", \"title\": {\"standoff\": 15}, \"zerolinecolor\": \"white\", \"zerolinewidth\": 2}, \"yaxis\": {\"automargin\": true, \"gridcolor\": \"white\", \"linecolor\": \"white\", \"ticks\": \"\", \"title\": {\"standoff\": 15}, \"zerolinecolor\": \"white\", \"zerolinewidth\": 2}}}, \"xaxis\": {\"categoryorder\": \"total ascending\"}},\n",
       "                        {\"responsive\": true}\n",
       "                    ).then(function(){\n",
       "                            \n",
       "var gd = document.getElementById('d023ba6a-ea71-4d55-9ede-f73294f143d0');\n",
       "var x = new MutationObserver(function (mutations, observer) {{\n",
       "        var display = window.getComputedStyle(gd).display;\n",
       "        if (!display || display === 'none') {{\n",
       "            console.log([gd, 'removed!']);\n",
       "            Plotly.purge(gd);\n",
       "            observer.disconnect();\n",
       "        }}\n",
       "}});\n",
       "\n",
       "// Listen for the removal of the full notebook cells\n",
       "var notebookContainer = gd.closest('#notebook-container');\n",
       "if (notebookContainer) {{\n",
       "    x.observe(notebookContainer, {childList: true});\n",
       "}}\n",
       "\n",
       "// Listen for the clearing of the current output cell\n",
       "var outputEl = gd.closest('.output');\n",
       "if (outputEl) {{\n",
       "    x.observe(outputEl, {childList: true});\n",
       "}}\n",
       "\n",
       "                        })\n",
       "                };\n",
       "                });\n",
       "            </script>\n",
       "        </div>"
      ]
     },
     "metadata": {},
     "output_type": "display_data"
    }
   ],
   "source": [
    "trace = go.Bar(\n",
    "    x=xd['country'],\n",
    "    y=xd['total']\n",
    ")\n",
    "fig = go.Figure(trace)\n",
    "fig = fig.update_layout(barmode='stack', xaxis={'categoryorder':'total ascending'})\n",
    "fig.show()"
   ]
  },
  {
   "cell_type": "code",
   "execution_count": 66,
   "metadata": {},
   "outputs": [
    {
     "data": {
      "application/vnd.plotly.v1+json": {
       "config": {
        "plotlyServerURL": "https://plot.ly"
       },
       "data": [
        {
         "type": "bar",
         "x": [
          "Albania",
          "Austria",
          "Bulgaria",
          "Denmark",
          "Belarus",
          "Estonia",
          "Finland",
          "France",
          "Germany",
          "Bosnia and Herzegovina",
          "Greece",
          "Hungary",
          "Croatia",
          "Ireland",
          "Italy",
          "Latvia",
          "Lithuania",
          "Malta",
          "Moldova",
          "Netherlands",
          "Macedonia TFYR",
          "Norway",
          "Czech Republic",
          "Poland",
          "Portugal",
          "Romania",
          "Russian Federation",
          "Slovenia",
          "Slovakia",
          "Spain",
          "Sweden",
          "Switzerland",
          "United Kingdom",
          "Ukraine",
          "Belgium",
          "Luxembourg",
          "Serbia",
          "Montenegro"
         ],
         "y": [
          2890000,
          8517000,
          7201000,
          5647000,
          9500000,
          1316000,
          5480000,
          64159000,
          80646000,
          3818000,
          11001000,
          9890000,
          4256000,
          4675000,
          59821000,
          1989000,
          2917000,
          418000,
          4072000,
          16868000,
          2076000,
          5148000,
          10543000,
          38620000,
          10402000,
          19652000,
          143429000,
          2066000,
          5423000,
          46260000,
          9703000,
          8211000,
          64331000,
          45002000,
          11226000,
          557000,
          8893000,
          625000
         ]
        }
       ],
       "layout": {
        "barmode": "stack",
        "template": {
         "data": {
          "bar": [
           {
            "error_x": {
             "color": "#2a3f5f"
            },
            "error_y": {
             "color": "#2a3f5f"
            },
            "marker": {
             "line": {
              "color": "#E5ECF6",
              "width": 0.5
             }
            },
            "type": "bar"
           }
          ],
          "barpolar": [
           {
            "marker": {
             "line": {
              "color": "#E5ECF6",
              "width": 0.5
             }
            },
            "type": "barpolar"
           }
          ],
          "carpet": [
           {
            "aaxis": {
             "endlinecolor": "#2a3f5f",
             "gridcolor": "white",
             "linecolor": "white",
             "minorgridcolor": "white",
             "startlinecolor": "#2a3f5f"
            },
            "baxis": {
             "endlinecolor": "#2a3f5f",
             "gridcolor": "white",
             "linecolor": "white",
             "minorgridcolor": "white",
             "startlinecolor": "#2a3f5f"
            },
            "type": "carpet"
           }
          ],
          "choropleth": [
           {
            "colorbar": {
             "outlinewidth": 0,
             "ticks": ""
            },
            "type": "choropleth"
           }
          ],
          "contour": [
           {
            "colorbar": {
             "outlinewidth": 0,
             "ticks": ""
            },
            "colorscale": [
             [
              0,
              "#0d0887"
             ],
             [
              0.1111111111111111,
              "#46039f"
             ],
             [
              0.2222222222222222,
              "#7201a8"
             ],
             [
              0.3333333333333333,
              "#9c179e"
             ],
             [
              0.4444444444444444,
              "#bd3786"
             ],
             [
              0.5555555555555556,
              "#d8576b"
             ],
             [
              0.6666666666666666,
              "#ed7953"
             ],
             [
              0.7777777777777778,
              "#fb9f3a"
             ],
             [
              0.8888888888888888,
              "#fdca26"
             ],
             [
              1,
              "#f0f921"
             ]
            ],
            "type": "contour"
           }
          ],
          "contourcarpet": [
           {
            "colorbar": {
             "outlinewidth": 0,
             "ticks": ""
            },
            "type": "contourcarpet"
           }
          ],
          "heatmap": [
           {
            "colorbar": {
             "outlinewidth": 0,
             "ticks": ""
            },
            "colorscale": [
             [
              0,
              "#0d0887"
             ],
             [
              0.1111111111111111,
              "#46039f"
             ],
             [
              0.2222222222222222,
              "#7201a8"
             ],
             [
              0.3333333333333333,
              "#9c179e"
             ],
             [
              0.4444444444444444,
              "#bd3786"
             ],
             [
              0.5555555555555556,
              "#d8576b"
             ],
             [
              0.6666666666666666,
              "#ed7953"
             ],
             [
              0.7777777777777778,
              "#fb9f3a"
             ],
             [
              0.8888888888888888,
              "#fdca26"
             ],
             [
              1,
              "#f0f921"
             ]
            ],
            "type": "heatmap"
           }
          ],
          "heatmapgl": [
           {
            "colorbar": {
             "outlinewidth": 0,
             "ticks": ""
            },
            "colorscale": [
             [
              0,
              "#0d0887"
             ],
             [
              0.1111111111111111,
              "#46039f"
             ],
             [
              0.2222222222222222,
              "#7201a8"
             ],
             [
              0.3333333333333333,
              "#9c179e"
             ],
             [
              0.4444444444444444,
              "#bd3786"
             ],
             [
              0.5555555555555556,
              "#d8576b"
             ],
             [
              0.6666666666666666,
              "#ed7953"
             ],
             [
              0.7777777777777778,
              "#fb9f3a"
             ],
             [
              0.8888888888888888,
              "#fdca26"
             ],
             [
              1,
              "#f0f921"
             ]
            ],
            "type": "heatmapgl"
           }
          ],
          "histogram": [
           {
            "marker": {
             "colorbar": {
              "outlinewidth": 0,
              "ticks": ""
             }
            },
            "type": "histogram"
           }
          ],
          "histogram2d": [
           {
            "colorbar": {
             "outlinewidth": 0,
             "ticks": ""
            },
            "colorscale": [
             [
              0,
              "#0d0887"
             ],
             [
              0.1111111111111111,
              "#46039f"
             ],
             [
              0.2222222222222222,
              "#7201a8"
             ],
             [
              0.3333333333333333,
              "#9c179e"
             ],
             [
              0.4444444444444444,
              "#bd3786"
             ],
             [
              0.5555555555555556,
              "#d8576b"
             ],
             [
              0.6666666666666666,
              "#ed7953"
             ],
             [
              0.7777777777777778,
              "#fb9f3a"
             ],
             [
              0.8888888888888888,
              "#fdca26"
             ],
             [
              1,
              "#f0f921"
             ]
            ],
            "type": "histogram2d"
           }
          ],
          "histogram2dcontour": [
           {
            "colorbar": {
             "outlinewidth": 0,
             "ticks": ""
            },
            "colorscale": [
             [
              0,
              "#0d0887"
             ],
             [
              0.1111111111111111,
              "#46039f"
             ],
             [
              0.2222222222222222,
              "#7201a8"
             ],
             [
              0.3333333333333333,
              "#9c179e"
             ],
             [
              0.4444444444444444,
              "#bd3786"
             ],
             [
              0.5555555555555556,
              "#d8576b"
             ],
             [
              0.6666666666666666,
              "#ed7953"
             ],
             [
              0.7777777777777778,
              "#fb9f3a"
             ],
             [
              0.8888888888888888,
              "#fdca26"
             ],
             [
              1,
              "#f0f921"
             ]
            ],
            "type": "histogram2dcontour"
           }
          ],
          "mesh3d": [
           {
            "colorbar": {
             "outlinewidth": 0,
             "ticks": ""
            },
            "type": "mesh3d"
           }
          ],
          "parcoords": [
           {
            "line": {
             "colorbar": {
              "outlinewidth": 0,
              "ticks": ""
             }
            },
            "type": "parcoords"
           }
          ],
          "pie": [
           {
            "automargin": true,
            "type": "pie"
           }
          ],
          "scatter": [
           {
            "marker": {
             "colorbar": {
              "outlinewidth": 0,
              "ticks": ""
             }
            },
            "type": "scatter"
           }
          ],
          "scatter3d": [
           {
            "line": {
             "colorbar": {
              "outlinewidth": 0,
              "ticks": ""
             }
            },
            "marker": {
             "colorbar": {
              "outlinewidth": 0,
              "ticks": ""
             }
            },
            "type": "scatter3d"
           }
          ],
          "scattercarpet": [
           {
            "marker": {
             "colorbar": {
              "outlinewidth": 0,
              "ticks": ""
             }
            },
            "type": "scattercarpet"
           }
          ],
          "scattergeo": [
           {
            "marker": {
             "colorbar": {
              "outlinewidth": 0,
              "ticks": ""
             }
            },
            "type": "scattergeo"
           }
          ],
          "scattergl": [
           {
            "marker": {
             "colorbar": {
              "outlinewidth": 0,
              "ticks": ""
             }
            },
            "type": "scattergl"
           }
          ],
          "scattermapbox": [
           {
            "marker": {
             "colorbar": {
              "outlinewidth": 0,
              "ticks": ""
             }
            },
            "type": "scattermapbox"
           }
          ],
          "scatterpolar": [
           {
            "marker": {
             "colorbar": {
              "outlinewidth": 0,
              "ticks": ""
             }
            },
            "type": "scatterpolar"
           }
          ],
          "scatterpolargl": [
           {
            "marker": {
             "colorbar": {
              "outlinewidth": 0,
              "ticks": ""
             }
            },
            "type": "scatterpolargl"
           }
          ],
          "scatterternary": [
           {
            "marker": {
             "colorbar": {
              "outlinewidth": 0,
              "ticks": ""
             }
            },
            "type": "scatterternary"
           }
          ],
          "surface": [
           {
            "colorbar": {
             "outlinewidth": 0,
             "ticks": ""
            },
            "colorscale": [
             [
              0,
              "#0d0887"
             ],
             [
              0.1111111111111111,
              "#46039f"
             ],
             [
              0.2222222222222222,
              "#7201a8"
             ],
             [
              0.3333333333333333,
              "#9c179e"
             ],
             [
              0.4444444444444444,
              "#bd3786"
             ],
             [
              0.5555555555555556,
              "#d8576b"
             ],
             [
              0.6666666666666666,
              "#ed7953"
             ],
             [
              0.7777777777777778,
              "#fb9f3a"
             ],
             [
              0.8888888888888888,
              "#fdca26"
             ],
             [
              1,
              "#f0f921"
             ]
            ],
            "type": "surface"
           }
          ],
          "table": [
           {
            "cells": {
             "fill": {
              "color": "#EBF0F8"
             },
             "line": {
              "color": "white"
             }
            },
            "header": {
             "fill": {
              "color": "#C8D4E3"
             },
             "line": {
              "color": "white"
             }
            },
            "type": "table"
           }
          ]
         },
         "layout": {
          "annotationdefaults": {
           "arrowcolor": "#2a3f5f",
           "arrowhead": 0,
           "arrowwidth": 1
          },
          "coloraxis": {
           "colorbar": {
            "outlinewidth": 0,
            "ticks": ""
           }
          },
          "colorscale": {
           "diverging": [
            [
             0,
             "#8e0152"
            ],
            [
             0.1,
             "#c51b7d"
            ],
            [
             0.2,
             "#de77ae"
            ],
            [
             0.3,
             "#f1b6da"
            ],
            [
             0.4,
             "#fde0ef"
            ],
            [
             0.5,
             "#f7f7f7"
            ],
            [
             0.6,
             "#e6f5d0"
            ],
            [
             0.7,
             "#b8e186"
            ],
            [
             0.8,
             "#7fbc41"
            ],
            [
             0.9,
             "#4d9221"
            ],
            [
             1,
             "#276419"
            ]
           ],
           "sequential": [
            [
             0,
             "#0d0887"
            ],
            [
             0.1111111111111111,
             "#46039f"
            ],
            [
             0.2222222222222222,
             "#7201a8"
            ],
            [
             0.3333333333333333,
             "#9c179e"
            ],
            [
             0.4444444444444444,
             "#bd3786"
            ],
            [
             0.5555555555555556,
             "#d8576b"
            ],
            [
             0.6666666666666666,
             "#ed7953"
            ],
            [
             0.7777777777777778,
             "#fb9f3a"
            ],
            [
             0.8888888888888888,
             "#fdca26"
            ],
            [
             1,
             "#f0f921"
            ]
           ],
           "sequentialminus": [
            [
             0,
             "#0d0887"
            ],
            [
             0.1111111111111111,
             "#46039f"
            ],
            [
             0.2222222222222222,
             "#7201a8"
            ],
            [
             0.3333333333333333,
             "#9c179e"
            ],
            [
             0.4444444444444444,
             "#bd3786"
            ],
            [
             0.5555555555555556,
             "#d8576b"
            ],
            [
             0.6666666666666666,
             "#ed7953"
            ],
            [
             0.7777777777777778,
             "#fb9f3a"
            ],
            [
             0.8888888888888888,
             "#fdca26"
            ],
            [
             1,
             "#f0f921"
            ]
           ]
          },
          "colorway": [
           "#636efa",
           "#EF553B",
           "#00cc96",
           "#ab63fa",
           "#FFA15A",
           "#19d3f3",
           "#FF6692",
           "#B6E880",
           "#FF97FF",
           "#FECB52"
          ],
          "font": {
           "color": "#2a3f5f"
          },
          "geo": {
           "bgcolor": "white",
           "lakecolor": "white",
           "landcolor": "#E5ECF6",
           "showlakes": true,
           "showland": true,
           "subunitcolor": "white"
          },
          "hoverlabel": {
           "align": "left"
          },
          "hovermode": "closest",
          "mapbox": {
           "style": "light"
          },
          "paper_bgcolor": "white",
          "plot_bgcolor": "#E5ECF6",
          "polar": {
           "angularaxis": {
            "gridcolor": "white",
            "linecolor": "white",
            "ticks": ""
           },
           "bgcolor": "#E5ECF6",
           "radialaxis": {
            "gridcolor": "white",
            "linecolor": "white",
            "ticks": ""
           }
          },
          "scene": {
           "xaxis": {
            "backgroundcolor": "#E5ECF6",
            "gridcolor": "white",
            "gridwidth": 2,
            "linecolor": "white",
            "showbackground": true,
            "ticks": "",
            "zerolinecolor": "white"
           },
           "yaxis": {
            "backgroundcolor": "#E5ECF6",
            "gridcolor": "white",
            "gridwidth": 2,
            "linecolor": "white",
            "showbackground": true,
            "ticks": "",
            "zerolinecolor": "white"
           },
           "zaxis": {
            "backgroundcolor": "#E5ECF6",
            "gridcolor": "white",
            "gridwidth": 2,
            "linecolor": "white",
            "showbackground": true,
            "ticks": "",
            "zerolinecolor": "white"
           }
          },
          "shapedefaults": {
           "line": {
            "color": "#2a3f5f"
           }
          },
          "ternary": {
           "aaxis": {
            "gridcolor": "white",
            "linecolor": "white",
            "ticks": ""
           },
           "baxis": {
            "gridcolor": "white",
            "linecolor": "white",
            "ticks": ""
           },
           "bgcolor": "#E5ECF6",
           "caxis": {
            "gridcolor": "white",
            "linecolor": "white",
            "ticks": ""
           }
          },
          "title": {
           "x": 0.05
          },
          "xaxis": {
           "automargin": true,
           "gridcolor": "white",
           "linecolor": "white",
           "ticks": "",
           "title": {
            "standoff": 15
           },
           "zerolinecolor": "white",
           "zerolinewidth": 2
          },
          "yaxis": {
           "automargin": true,
           "gridcolor": "white",
           "linecolor": "white",
           "ticks": "",
           "title": {
            "standoff": 15
           },
           "zerolinecolor": "white",
           "zerolinewidth": 2
          }
         }
        },
        "xaxis": {
         "categoryorder": "total ascending"
        }
       }
      },
      "text/html": [
       "<div>\n",
       "        \n",
       "        \n",
       "            <div id=\"56e97b3c-bf2f-40d8-8c0d-8e1287d94359\" class=\"plotly-graph-div\" style=\"height:525px; width:100%;\"></div>\n",
       "            <script type=\"text/javascript\">\n",
       "                require([\"plotly\"], function(Plotly) {\n",
       "                    window.PLOTLYENV=window.PLOTLYENV || {};\n",
       "                    \n",
       "                if (document.getElementById(\"56e97b3c-bf2f-40d8-8c0d-8e1287d94359\")) {\n",
       "                    Plotly.newPlot(\n",
       "                        '56e97b3c-bf2f-40d8-8c0d-8e1287d94359',\n",
       "                        [{\"type\": \"bar\", \"x\": [\"Albania\", \"Austria\", \"Bulgaria\", \"Denmark\", \"Belarus\", \"Estonia\", \"Finland\", \"France\", \"Germany\", \"Bosnia and Herzegovina\", \"Greece\", \"Hungary\", \"Croatia\", \"Ireland\", \"Italy\", \"Latvia\", \"Lithuania\", \"Malta\", \"Moldova\", \"Netherlands\", \"Macedonia TFYR\", \"Norway\", \"Czech Republic\", \"Poland\", \"Portugal\", \"Romania\", \"Russian Federation\", \"Slovenia\", \"Slovakia\", \"Spain\", \"Sweden\", \"Switzerland\", \"United Kingdom\", \"Ukraine\", \"Belgium\", \"Luxembourg\", \"Serbia\", \"Montenegro\"], \"y\": [2890000, 8517000, 7201000, 5647000, 9500000, 1316000, 5480000, 64159000, 80646000, 3818000, 11001000, 9890000, 4256000, 4675000, 59821000, 1989000, 2917000, 418000, 4072000, 16868000, 2076000, 5148000, 10543000, 38620000, 10402000, 19652000, 143429000, 2066000, 5423000, 46260000, 9703000, 8211000, 64331000, 45002000, 11226000, 557000, 8893000, 625000]}],\n",
       "                        {\"barmode\": \"stack\", \"template\": {\"data\": {\"bar\": [{\"error_x\": {\"color\": \"#2a3f5f\"}, \"error_y\": {\"color\": \"#2a3f5f\"}, \"marker\": {\"line\": {\"color\": \"#E5ECF6\", \"width\": 0.5}}, \"type\": \"bar\"}], \"barpolar\": [{\"marker\": {\"line\": {\"color\": \"#E5ECF6\", \"width\": 0.5}}, \"type\": \"barpolar\"}], \"carpet\": [{\"aaxis\": {\"endlinecolor\": \"#2a3f5f\", \"gridcolor\": \"white\", \"linecolor\": \"white\", \"minorgridcolor\": \"white\", \"startlinecolor\": \"#2a3f5f\"}, \"baxis\": {\"endlinecolor\": \"#2a3f5f\", \"gridcolor\": \"white\", \"linecolor\": \"white\", \"minorgridcolor\": \"white\", \"startlinecolor\": \"#2a3f5f\"}, \"type\": \"carpet\"}], \"choropleth\": [{\"colorbar\": {\"outlinewidth\": 0, \"ticks\": \"\"}, \"type\": \"choropleth\"}], \"contour\": [{\"colorbar\": {\"outlinewidth\": 0, \"ticks\": \"\"}, \"colorscale\": [[0.0, \"#0d0887\"], [0.1111111111111111, \"#46039f\"], [0.2222222222222222, \"#7201a8\"], [0.3333333333333333, \"#9c179e\"], [0.4444444444444444, \"#bd3786\"], [0.5555555555555556, \"#d8576b\"], [0.6666666666666666, \"#ed7953\"], [0.7777777777777778, \"#fb9f3a\"], [0.8888888888888888, \"#fdca26\"], [1.0, \"#f0f921\"]], \"type\": \"contour\"}], \"contourcarpet\": [{\"colorbar\": {\"outlinewidth\": 0, \"ticks\": \"\"}, \"type\": \"contourcarpet\"}], \"heatmap\": [{\"colorbar\": {\"outlinewidth\": 0, \"ticks\": \"\"}, \"colorscale\": [[0.0, \"#0d0887\"], [0.1111111111111111, \"#46039f\"], [0.2222222222222222, \"#7201a8\"], [0.3333333333333333, \"#9c179e\"], [0.4444444444444444, \"#bd3786\"], [0.5555555555555556, \"#d8576b\"], [0.6666666666666666, \"#ed7953\"], [0.7777777777777778, \"#fb9f3a\"], [0.8888888888888888, \"#fdca26\"], [1.0, \"#f0f921\"]], \"type\": \"heatmap\"}], \"heatmapgl\": [{\"colorbar\": {\"outlinewidth\": 0, \"ticks\": \"\"}, \"colorscale\": [[0.0, \"#0d0887\"], [0.1111111111111111, \"#46039f\"], [0.2222222222222222, \"#7201a8\"], [0.3333333333333333, \"#9c179e\"], [0.4444444444444444, \"#bd3786\"], [0.5555555555555556, \"#d8576b\"], [0.6666666666666666, \"#ed7953\"], [0.7777777777777778, \"#fb9f3a\"], [0.8888888888888888, \"#fdca26\"], [1.0, \"#f0f921\"]], \"type\": \"heatmapgl\"}], \"histogram\": [{\"marker\": {\"colorbar\": {\"outlinewidth\": 0, \"ticks\": \"\"}}, \"type\": \"histogram\"}], \"histogram2d\": [{\"colorbar\": {\"outlinewidth\": 0, \"ticks\": \"\"}, \"colorscale\": [[0.0, \"#0d0887\"], [0.1111111111111111, \"#46039f\"], [0.2222222222222222, \"#7201a8\"], [0.3333333333333333, \"#9c179e\"], [0.4444444444444444, \"#bd3786\"], [0.5555555555555556, \"#d8576b\"], [0.6666666666666666, \"#ed7953\"], [0.7777777777777778, \"#fb9f3a\"], [0.8888888888888888, \"#fdca26\"], [1.0, \"#f0f921\"]], \"type\": \"histogram2d\"}], \"histogram2dcontour\": [{\"colorbar\": {\"outlinewidth\": 0, \"ticks\": \"\"}, \"colorscale\": [[0.0, \"#0d0887\"], [0.1111111111111111, \"#46039f\"], [0.2222222222222222, \"#7201a8\"], [0.3333333333333333, \"#9c179e\"], [0.4444444444444444, \"#bd3786\"], [0.5555555555555556, \"#d8576b\"], [0.6666666666666666, \"#ed7953\"], [0.7777777777777778, \"#fb9f3a\"], [0.8888888888888888, \"#fdca26\"], [1.0, \"#f0f921\"]], \"type\": \"histogram2dcontour\"}], \"mesh3d\": [{\"colorbar\": {\"outlinewidth\": 0, \"ticks\": \"\"}, \"type\": \"mesh3d\"}], \"parcoords\": [{\"line\": {\"colorbar\": {\"outlinewidth\": 0, \"ticks\": \"\"}}, \"type\": \"parcoords\"}], \"pie\": [{\"automargin\": true, \"type\": \"pie\"}], \"scatter\": [{\"marker\": {\"colorbar\": {\"outlinewidth\": 0, \"ticks\": \"\"}}, \"type\": \"scatter\"}], \"scatter3d\": [{\"line\": {\"colorbar\": {\"outlinewidth\": 0, \"ticks\": \"\"}}, \"marker\": {\"colorbar\": {\"outlinewidth\": 0, \"ticks\": \"\"}}, \"type\": \"scatter3d\"}], \"scattercarpet\": [{\"marker\": {\"colorbar\": {\"outlinewidth\": 0, \"ticks\": \"\"}}, \"type\": \"scattercarpet\"}], \"scattergeo\": [{\"marker\": {\"colorbar\": {\"outlinewidth\": 0, \"ticks\": \"\"}}, \"type\": \"scattergeo\"}], \"scattergl\": [{\"marker\": {\"colorbar\": {\"outlinewidth\": 0, \"ticks\": \"\"}}, \"type\": \"scattergl\"}], \"scattermapbox\": [{\"marker\": {\"colorbar\": {\"outlinewidth\": 0, \"ticks\": \"\"}}, \"type\": \"scattermapbox\"}], \"scatterpolar\": [{\"marker\": {\"colorbar\": {\"outlinewidth\": 0, \"ticks\": \"\"}}, \"type\": \"scatterpolar\"}], \"scatterpolargl\": [{\"marker\": {\"colorbar\": {\"outlinewidth\": 0, \"ticks\": \"\"}}, \"type\": \"scatterpolargl\"}], \"scatterternary\": [{\"marker\": {\"colorbar\": {\"outlinewidth\": 0, \"ticks\": \"\"}}, \"type\": \"scatterternary\"}], \"surface\": [{\"colorbar\": {\"outlinewidth\": 0, \"ticks\": \"\"}, \"colorscale\": [[0.0, \"#0d0887\"], [0.1111111111111111, \"#46039f\"], [0.2222222222222222, \"#7201a8\"], [0.3333333333333333, \"#9c179e\"], [0.4444444444444444, \"#bd3786\"], [0.5555555555555556, \"#d8576b\"], [0.6666666666666666, \"#ed7953\"], [0.7777777777777778, \"#fb9f3a\"], [0.8888888888888888, \"#fdca26\"], [1.0, \"#f0f921\"]], \"type\": \"surface\"}], \"table\": [{\"cells\": {\"fill\": {\"color\": \"#EBF0F8\"}, \"line\": {\"color\": \"white\"}}, \"header\": {\"fill\": {\"color\": \"#C8D4E3\"}, \"line\": {\"color\": \"white\"}}, \"type\": \"table\"}]}, \"layout\": {\"annotationdefaults\": {\"arrowcolor\": \"#2a3f5f\", \"arrowhead\": 0, \"arrowwidth\": 1}, \"coloraxis\": {\"colorbar\": {\"outlinewidth\": 0, \"ticks\": \"\"}}, \"colorscale\": {\"diverging\": [[0, \"#8e0152\"], [0.1, \"#c51b7d\"], [0.2, \"#de77ae\"], [0.3, \"#f1b6da\"], [0.4, \"#fde0ef\"], [0.5, \"#f7f7f7\"], [0.6, \"#e6f5d0\"], [0.7, \"#b8e186\"], [0.8, \"#7fbc41\"], [0.9, \"#4d9221\"], [1, \"#276419\"]], \"sequential\": [[0.0, \"#0d0887\"], [0.1111111111111111, \"#46039f\"], [0.2222222222222222, \"#7201a8\"], [0.3333333333333333, \"#9c179e\"], [0.4444444444444444, \"#bd3786\"], [0.5555555555555556, \"#d8576b\"], [0.6666666666666666, \"#ed7953\"], [0.7777777777777778, \"#fb9f3a\"], [0.8888888888888888, \"#fdca26\"], [1.0, \"#f0f921\"]], \"sequentialminus\": [[0.0, \"#0d0887\"], [0.1111111111111111, \"#46039f\"], [0.2222222222222222, \"#7201a8\"], [0.3333333333333333, \"#9c179e\"], [0.4444444444444444, \"#bd3786\"], [0.5555555555555556, \"#d8576b\"], [0.6666666666666666, \"#ed7953\"], [0.7777777777777778, \"#fb9f3a\"], [0.8888888888888888, \"#fdca26\"], [1.0, \"#f0f921\"]]}, \"colorway\": [\"#636efa\", \"#EF553B\", \"#00cc96\", \"#ab63fa\", \"#FFA15A\", \"#19d3f3\", \"#FF6692\", \"#B6E880\", \"#FF97FF\", \"#FECB52\"], \"font\": {\"color\": \"#2a3f5f\"}, \"geo\": {\"bgcolor\": \"white\", \"lakecolor\": \"white\", \"landcolor\": \"#E5ECF6\", \"showlakes\": true, \"showland\": true, \"subunitcolor\": \"white\"}, \"hoverlabel\": {\"align\": \"left\"}, \"hovermode\": \"closest\", \"mapbox\": {\"style\": \"light\"}, \"paper_bgcolor\": \"white\", \"plot_bgcolor\": \"#E5ECF6\", \"polar\": {\"angularaxis\": {\"gridcolor\": \"white\", \"linecolor\": \"white\", \"ticks\": \"\"}, \"bgcolor\": \"#E5ECF6\", \"radialaxis\": {\"gridcolor\": \"white\", \"linecolor\": \"white\", \"ticks\": \"\"}}, \"scene\": {\"xaxis\": {\"backgroundcolor\": \"#E5ECF6\", \"gridcolor\": \"white\", \"gridwidth\": 2, \"linecolor\": \"white\", \"showbackground\": true, \"ticks\": \"\", \"zerolinecolor\": \"white\"}, \"yaxis\": {\"backgroundcolor\": \"#E5ECF6\", \"gridcolor\": \"white\", \"gridwidth\": 2, \"linecolor\": \"white\", \"showbackground\": true, \"ticks\": \"\", \"zerolinecolor\": \"white\"}, \"zaxis\": {\"backgroundcolor\": \"#E5ECF6\", \"gridcolor\": \"white\", \"gridwidth\": 2, \"linecolor\": \"white\", \"showbackground\": true, \"ticks\": \"\", \"zerolinecolor\": \"white\"}}, \"shapedefaults\": {\"line\": {\"color\": \"#2a3f5f\"}}, \"ternary\": {\"aaxis\": {\"gridcolor\": \"white\", \"linecolor\": \"white\", \"ticks\": \"\"}, \"baxis\": {\"gridcolor\": \"white\", \"linecolor\": \"white\", \"ticks\": \"\"}, \"bgcolor\": \"#E5ECF6\", \"caxis\": {\"gridcolor\": \"white\", \"linecolor\": \"white\", \"ticks\": \"\"}}, \"title\": {\"x\": 0.05}, \"xaxis\": {\"automargin\": true, \"gridcolor\": \"white\", \"linecolor\": \"white\", \"ticks\": \"\", \"title\": {\"standoff\": 15}, \"zerolinecolor\": \"white\", \"zerolinewidth\": 2}, \"yaxis\": {\"automargin\": true, \"gridcolor\": \"white\", \"linecolor\": \"white\", \"ticks\": \"\", \"title\": {\"standoff\": 15}, \"zerolinecolor\": \"white\", \"zerolinewidth\": 2}}}, \"xaxis\": {\"categoryorder\": \"total ascending\"}},\n",
       "                        {\"responsive\": true}\n",
       "                    ).then(function(){\n",
       "                            \n",
       "var gd = document.getElementById('56e97b3c-bf2f-40d8-8c0d-8e1287d94359');\n",
       "var x = new MutationObserver(function (mutations, observer) {{\n",
       "        var display = window.getComputedStyle(gd).display;\n",
       "        if (!display || display === 'none') {{\n",
       "            console.log([gd, 'removed!']);\n",
       "            Plotly.purge(gd);\n",
       "            observer.disconnect();\n",
       "        }}\n",
       "}});\n",
       "\n",
       "// Listen for the removal of the full notebook cells\n",
       "var notebookContainer = gd.closest('#notebook-container');\n",
       "if (notebookContainer) {{\n",
       "    x.observe(notebookContainer, {childList: true});\n",
       "}}\n",
       "\n",
       "// Listen for the clearing of the current output cell\n",
       "var outputEl = gd.closest('.output');\n",
       "if (outputEl) {{\n",
       "    x.observe(outputEl, {childList: true});\n",
       "}}\n",
       "\n",
       "                        })\n",
       "                };\n",
       "                });\n",
       "            </script>\n",
       "        </div>"
      ]
     },
     "metadata": {},
     "output_type": "display_data"
    }
   ],
   "source": [
    "trace1 = go.Bar(\n",
    "    x=xd['country'],\n",
    "    y=xd['population']\n",
    ")\n",
    "fig = go.Figure(trace1)\n",
    "fig = fig.update_layout(barmode='stack', xaxis={'categoryorder':'total ascending'})\n",
    "fig.show()"
   ]
  },
  {
   "cell_type": "code",
   "execution_count": null,
   "metadata": {},
   "outputs": [],
   "source": []
  }
 ],
 "metadata": {
  "kernelspec": {
   "display_name": "Python 3",
   "language": "python",
   "name": "python3"
  },
  "language_info": {
   "codemirror_mode": {
    "name": "ipython",
    "version": 3
   },
   "file_extension": ".py",
   "mimetype": "text/x-python",
   "name": "python",
   "nbconvert_exporter": "python",
   "pygments_lexer": "ipython3",
   "version": "3.7.4"
  }
 },
 "nbformat": 4,
 "nbformat_minor": 2
}
